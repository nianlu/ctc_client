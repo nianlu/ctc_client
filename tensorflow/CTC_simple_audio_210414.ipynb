{
 "cells": [
  {
   "cell_type": "markdown",
   "metadata": {
    "id": "jYysdyb-CaWM"
   },
   "source": [
    "# Chinese Tone Recognition: Recognizing Chinese Tones"
   ]
  },
  {
   "cell_type": "markdown",
   "metadata": {
    "id": "SPfDNFlb66XF"
   },
   "source": [
    "此 Colab 计划用 TS 自动标记中文声调，从而进一步了解中文声调的本质，并指导中文作为外语教学实践。"
   ]
  },
  {
   "cell_type": "markdown",
   "metadata": {
    "id": "98455e0oZS_X"
   },
   "source": [
    "## Install Requirements"
   ]
  },
  {
   "cell_type": "code",
   "execution_count": 628,
   "metadata": {
    "id": "q_T590eg4FSc",
    "tags": []
   },
   "outputs": [],
   "source": [
    "## !pip install --upgrade google-api-python-client google-auth-httplib2 google-auth-oauthlib\n",
    "# !pip install matplotlib\n",
    "# !pip install seaborn \n",
    "# !pip install tensorflow \n",
    "# !pip install IPython\n",
    "# !pip install tensorflow-probability\n",
    "# !pip install tensorflow_addons"
   ]
  },
  {
   "cell_type": "markdown",
   "metadata": {
    "id": "Go9C3uLL8Izc"
   },
   "source": [
    "## Import Modules & Dependencies and Connect to local runtime\n",
    "\n",
    "Import necessary modules and dependencies."
   ]
  },
  {
   "cell_type": "code",
   "execution_count": 629,
   "metadata": {
    "colab": {
     "base_uri": "https://localhost:8080/"
    },
    "id": "dzLKpmZICaWN",
    "outputId": "71da602e-d91a-4a6c-f2bf-2b3c5afb4194",
    "tags": []
   },
   "outputs": [
    {
     "name": "stdout",
     "output_type": "stream",
     "text": [
      "All dependency successfully imported.\n"
     ]
    }
   ],
   "source": [
    "# Requirements\n",
    "\n",
    "import os\n",
    "import pathlib\n",
    "\n",
    "import matplotlib.pyplot as plt\n",
    "import numpy as np\n",
    "import seaborn as sns\n",
    "import tensorflow as tf\n",
    "import tensorflow_addons as tfa\n",
    "import tensorflow_probability as tfp\n",
    "\n",
    "from tensorflow.keras.layers.experimental import preprocessing\n",
    "from tensorflow.keras import layers\n",
    "from tensorflow.keras import models\n",
    "from IPython import display\n",
    "\n",
    "# Set seed for experiment reproducibility\n",
    "seed = 40\n",
    "tf.random.set_seed(seed)\n",
    "np.random.seed(seed)\n",
    "\n",
    "print('All dependency successfully imported.')"
   ]
  },
  {
   "cell_type": "code",
   "execution_count": 630,
   "metadata": {
    "id": "2-rayb7-3Y0I",
    "tags": []
   },
   "outputs": [
    {
     "name": "stdout",
     "output_type": "stream",
     "text": [
      "1 Physical GPUs, 1 Logical GPUs\n"
     ]
    }
   ],
   "source": [
    "# Connect to Local Runtime\n",
    "\n",
    "gpus = tf.config.experimental.list_physical_devices('GPU')\n",
    "if gpus:\n",
    "  try:\n",
    "    # Currently, memory growth needs to be the same across GPUs\n",
    "    for gpu in gpus:\n",
    "      tf.config.experimental.set_memory_growth(gpu, True)\n",
    "    logical_gpus = tf.config.experimental.list_logical_devices('GPU')\n",
    "    print(len(gpus), \"Physical GPUs,\", len(logical_gpus), \"Logical GPUs\")\n",
    "  except RuntimeError as e:\n",
    "    # Memory growth must be set before GPUs have been initialized\n",
    "    print(e)"
   ]
  },
  {
   "cell_type": "markdown",
   "metadata": {},
   "source": [
    "## Set folder for training and validation"
   ]
  },
  {
   "cell_type": "code",
   "execution_count": 631,
   "metadata": {
    "id": "95cduR5_G7xT"
   },
   "outputs": [
    {
     "name": "stdout",
     "output_type": "stream",
     "text": [
      "Y:/PycharmProjects/sound/mixed_clean successfully mounted as training and validation dataset.\n"
     ]
    }
   ],
   "source": [
    "# Set folder for training and validation\n",
    "\n",
    "root_dir = 'Y:/PycharmProjects/sound/'\n",
    "\n",
    "# folder_name = \"allsetlearning_wav\"\n",
    "# folder_name = \"chinesepod_wav\"\n",
    "# folder_name = \"yoyochinese_wav\" \n",
    "# folder_name = \"archchinese_wav\"\n",
    "# folder_name = \"Bing_16bit\"\n",
    "# folder_name = \"Xiaofei_wav\"\n",
    "# folder_name = \"quickmandarin_wav\"\n",
    "folder_name = \"mixed_clean\"\n",
    "\n",
    "data_dir = pathlib.Path(root_dir + folder_name)\n",
    "filenames = tf.io.gfile.glob(str(data_dir) + '/*/*')\n",
    "\n",
    "print(root_dir + folder_name, \"successfully mounted as training and validation dataset.\")"
   ]
  },
  {
   "cell_type": "code",
   "execution_count": 632,
   "metadata": {},
   "outputs": [
    {
     "name": "stdout",
     "output_type": "stream",
     "text": [
      "Y:/PycharmProjects/sound/Bing_16bit successfully mounted as test dataset.\n",
      "Test data set size: 271\n"
     ]
    }
   ],
   "source": [
    "# Set folder for prediction\n",
    "\n",
    "# folder_name_t = \"allsetlearning_wav\"\n",
    "# folder_name_t = \"chinesepod_wav\"\n",
    "# folder_name_t = \"yoyochinese_wav\"\n",
    "# folder_name_t = \"archchinese_wav\"\n",
    "folder_name_t = \"Bing_16bit\"\n",
    "# folder_name_t = \"Xiaofei_wav\"\n",
    "# folder_name_t = \"quickmandarin_wav\"\n",
    "# folder_name_t = \"mixed_clean\"\n",
    "# folder_name_t = \"Bing_16bit\"\n",
    "\n",
    "data_dir_t = pathlib.Path(root_dir + folder_name_t)\n",
    "filenames_t = tf.io.gfile.glob(str(data_dir_t) + '/*/*')\n",
    "\n",
    "print(root_dir + folder_name_t, \"successfully mounted as test dataset.\")\n",
    "\n",
    "# Set Test Dataset\n",
    "\n",
    "test_files = filenames_t\n",
    "print('Test data set size:', len(test_files))"
   ]
  },
  {
   "cell_type": "markdown",
   "metadata": {
    "id": "BgvFq3uYiS5G"
   },
   "source": [
    "Check basic statistics about the dataset."
   ]
  },
  {
   "cell_type": "code",
   "execution_count": 633,
   "metadata": {
    "colab": {
     "base_uri": "https://localhost:8080/"
    },
    "id": "70IBxSKxA1N9",
    "outputId": "45988200-d429-4a32-8376-3c8f65c7416e"
   },
   "outputs": [
    {
     "name": "stdout",
     "output_type": "stream",
     "text": [
      "Tones: ['4' '1' '2' '3']\n"
     ]
    }
   ],
   "source": [
    "# Check Folders/Labels\n",
    "\n",
    "tones = np.array(tf.io.gfile.listdir(str(data_dir)))\n",
    "tones = tones[tones != 'README.md']\n",
    "print('Tones:', tones)"
   ]
  },
  {
   "cell_type": "markdown",
   "metadata": {
    "id": "aMvdU9SY8WXN"
   },
   "source": [
    "Extract the audio files into a list and shuffle it."
   ]
  },
  {
   "cell_type": "code",
   "execution_count": 634,
   "metadata": {
    "colab": {
     "base_uri": "https://localhost:8080/"
    },
    "id": "hlX685l1wD9k",
    "outputId": "33329179-6baa-428d-ef91-5c9e4c65e7bc"
   },
   "outputs": [
    {
     "name": "stdout",
     "output_type": "stream",
     "text": [
      "Number of total examples: 5883\n",
      "Number of examples per label: 1470\n",
      "Example file tensor: tf.Tensor(b'Y:\\\\PycharmProjects\\\\sound\\\\mixed_clean\\\\3\\\\quickmandarin_dun3.wav', shape=(), dtype=string)\n"
     ]
    }
   ],
   "source": [
    "# List and Shuffle Audio File\n",
    "\n",
    "filenames = tf.io.gfile.glob(str(data_dir) + '/*/*')\n",
    "filenames = tf.random.shuffle(filenames)\n",
    "num_samples = len(filenames)\n",
    "print('Number of total examples:', num_samples)\n",
    "print('Number of examples per label:',\n",
    "      len(tf.io.gfile.listdir(str(data_dir/tones[0]))))\n",
    "print('Example file tensor:', filenames[0])"
   ]
  },
  {
   "cell_type": "markdown",
   "metadata": {
    "id": "9vK3ymy23MCP"
   },
   "source": [
    "Split the files into training, validation and test sets using a 80:10:10 ratio, respectively."
   ]
  },
  {
   "cell_type": "code",
   "execution_count": 635,
   "metadata": {
    "colab": {
     "base_uri": "https://localhost:8080/"
    },
    "id": "Cv_wts-l3KgD",
    "outputId": "371abb1d-cad6-42a7-c5d7-b75f62ed24f1"
   },
   "outputs": [
    {
     "name": "stdout",
     "output_type": "stream",
     "text": [
      "Training set size 4118\n",
      "Validation set size 1765\n"
     ]
    }
   ],
   "source": [
    "# Set Train and Val Dataset\n",
    "\n",
    "split_factor = num_samples/10\n",
    "\n",
    "train_files = filenames[: int(split_factor*7)]\n",
    "val_files = filenames[int(split_factor*7): int(split_factor*10)]\n",
    "# test_files = filenames[int(split_factor*9): num_samples]\n",
    "\n",
    "print('Training set size', len(train_files))\n",
    "print('Validation set size', len(val_files))\n",
    "# print('Test set size', len(test_files))"
   ]
  },
  {
   "cell_type": "markdown",
   "metadata": {
    "id": "g2Cj9FyvfweD"
   },
   "source": [
    "## Reading audio files and their labels"
   ]
  },
  {
   "cell_type": "markdown",
   "metadata": {
    "id": "j1zjcWteOcBy"
   },
   "source": [
    "The audio file will initially be read as a binary file, which you'll want to convert into a numerical tensor.\n",
    "\n",
    "To load an audio file, you will use [`tf.audio.decode_wav`](https://www.tensorflow.org/api_docs/python/tf/audio/decode_wav), which returns the WAV-encoded audio as a Tensor and the sample rate.\n",
    "\n",
    "A WAV file contains time series data with a set number of samples per second. \n",
    "Each sample represents the amplitude of the audio signal at that specific time. In a 16-bit system, like the files in `mini_speech_commands`, the values range from -32768 to 32767. \n",
    "The sample rate for this dataset is 16kHz.\n",
    "Note that `tf.audio.decode_wav` will normalize the values to the range [-1.0, 1.0]."
   ]
  },
  {
   "cell_type": "code",
   "execution_count": 636,
   "metadata": {
    "id": "9PjJ2iXYwftD"
   },
   "outputs": [],
   "source": [
    "def decode_audio(audio_binary):\n",
    "  audio, _ = tf.audio.decode_wav(audio_binary)\n",
    "  return tf.squeeze(audio, axis=-1)"
   ]
  },
  {
   "cell_type": "markdown",
   "metadata": {
    "id": "GPQseZElOjVN"
   },
   "source": [
    "The label for each WAV file is its parent directory."
   ]
  },
  {
   "cell_type": "code",
   "execution_count": 637,
   "metadata": {
    "id": "8VTtX1nr3YT-"
   },
   "outputs": [],
   "source": [
    "def get_label(file_path):\n",
    "  parts = tf.strings.split(file_path, os.path.sep)\n",
    "\n",
    "  # Note: You'll use indexing here instead of tuple unpacking to enable this \n",
    "  # to work in a TensorFlow graph.\n",
    "  return parts[-2] "
   ]
  },
  {
   "cell_type": "markdown",
   "metadata": {
    "id": "E8Y9w_5MOsr-"
   },
   "source": [
    "Let's define a method that will take in the filename of the WAV file and output a tuple containing the audio and labels for supervised training."
   ]
  },
  {
   "cell_type": "code",
   "execution_count": 638,
   "metadata": {
    "colab": {
     "base_uri": "https://localhost:8080/"
    },
    "id": "Pa8-uhvaJmnC",
    "outputId": "128edda9-0f77-4551-ac12-2f6cdef3de88"
   },
   "outputs": [
    {
     "name": "stdout",
     "output_type": "stream",
     "text": [
      "audio_length 72000\n"
     ]
    }
   ],
   "source": [
    "# 设置 spectrogram x轴的长度\n",
    "# 将 get_spectfrogram 中的 frame_length he frame_step 改为 global variable\n",
    "# sample rate = 48,000\n",
    "\n",
    "spectro_x = 128\n",
    "\n",
    "frame_length = 1024*10\n",
    "frame_step = 640\n",
    "\n",
    "# audio_length = (spectro_x - 1)*frame_step + frame_length\n",
    "\n",
    "audio_length = int(48000 * 1.5)\n",
    "\n",
    "print('audio_length', audio_length)"
   ]
  },
  {
   "cell_type": "code",
   "execution_count": 639,
   "metadata": {
    "id": "WdgUD5T93NyT"
   },
   "outputs": [],
   "source": [
    "def get_waveform_and_label(file_path):\n",
    "    label = get_label(file_path)\n",
    "    audio_binary = tf.io.read_file(file_path)\n",
    "    waveform = decode_audio(audio_binary)\n",
    "    waveform = tf.strided_slice(waveform, [0], [audio_length])\n",
    "\n",
    "    print(\"Tone:\", label)\n",
    "    return waveform, label"
   ]
  },
  {
   "cell_type": "markdown",
   "metadata": {
    "id": "nvN8W_dDjYjc"
   },
   "source": [
    "You will now apply `process_path` to build your training set to extract the audio-label pairs and check the results. You'll build the validation and test sets using a similar procedure later on."
   ]
  },
  {
   "cell_type": "code",
   "execution_count": 640,
   "metadata": {
    "colab": {
     "base_uri": "https://localhost:8080/"
    },
    "id": "0SQl8yXl3kNP",
    "outputId": "9a4912bb-a593-4954-9ff5-d413245c0773"
   },
   "outputs": [
    {
     "name": "stdout",
     "output_type": "stream",
     "text": [
      "Tone: Tensor(\"strided_slice:0\", shape=(), dtype=string)\n"
     ]
    }
   ],
   "source": [
    "AUTOTUNE = tf.data.AUTOTUNE\n",
    "files_ds = tf.data.Dataset.from_tensor_slices(train_files)\n",
    "waveform_ds = files_ds.map(get_waveform_and_label, num_parallel_calls=AUTOTUNE)"
   ]
  },
  {
   "cell_type": "markdown",
   "metadata": {
    "id": "voxGEwvuh2L7"
   },
   "source": [
    "Let's examine a few audio waveforms with their corresponding labels."
   ]
  },
  {
   "cell_type": "code",
   "execution_count": 641,
   "metadata": {
    "colab": {
     "base_uri": "https://localhost:8080/",
     "height": 607
    },
    "id": "8yuX6Nqzf6wT",
    "outputId": "c69c5568-6ab1-4edc-c218-03f888066588"
   },
   "outputs": [
    {
     "data": {
      "image/png": "[encoded data removed]",
      "text/plain": [
       "<Figure size 720x720 with 9 Axes>"
      ]
     },
     "metadata": {
      "needs_background": "light"
     },
     "output_type": "display_data"
    }
   ],
   "source": [
    "rows = 3\n",
    "cols = 3\n",
    "n = rows*cols\n",
    "fig, axes = plt.subplots(rows, cols, figsize=(10, 10))\n",
    "# for i, (audio, label) in enumerate(waveform_ds.take(n)):\n",
    "for i, (audio, label) in enumerate(waveform_ds.take(n)):\n",
    "    r = i // cols\n",
    "    c = i % cols\n",
    "    ax = axes[r][c]\n",
    "    ax.plot(audio.numpy())\n",
    "    ax.set_yticks(np.arange(-1.2, 1.2, 0.2))\n",
    "    label = label.numpy().decode('utf-8')\n",
    "    ax.set_title(label)\n",
    "\n",
    "plt.show()"
   ]
  },
  {
   "cell_type": "markdown",
   "metadata": {
    "id": "EWXPphxm0B4m"
   },
   "source": [
    "## Spectrogram\n",
    "\n",
    "You'll convert the waveform into a spectrogram, which shows frequency changes over time and can be represented as a 2D image. This can be done by applying the short-time Fourier transform (STFT) to convert the audio into the time-frequency domain.\n",
    "\n",
    "A Fourier transform ([`tf.signal.fft`](https://www.tensorflow.org/api_docs/python/tf/signal/fft)) converts a signal to its component frequencies, but loses all time information. The STFT ([`tf.signal.stft`](https://www.tensorflow.org/api_docs/python/tf/signal/stft)) splits the signal into windows of time and runs a Fourier transform on each window, preserving some time information, and returning a 2D tensor that you can run standard convolutions on.\n",
    "\n",
    "STFT produces an array of complex numbers representing magnitude and phase. However, you'll only need the magnitude for this tutorial, which can be derived by applying `tf.abs` on the output of `tf.signal.stft`. \n",
    "\n",
    "Choose `frame_length` and `frame_step` parameters such that the generated spectrogram \"image\" is almost square. For more information on STFT parameters choice, you can refer to [this video](https://www.coursera.org/lecture/audio-signal-processing/stft-2-tjEQe) on audio signal processing. \n",
    "\n",
    "You also want the waveforms to have the same length, so that when you convert it to a spectrogram image, the results will have similar dimensions. This can be done by simply zero padding the audio clips that are shorter than one second.\n"
   ]
  },
  {
   "cell_type": "markdown",
   "metadata": {},
   "source": [
    "### Simplify Spectrogram"
   ]
  },
  {
   "cell_type": "code",
   "execution_count": 642,
   "metadata": {
    "id": "qCTDHTMGED_m",
    "tags": []
   },
   "outputs": [],
   "source": [
    "def simple_spec(spectrogram):\n",
    "\n",
    "    ps = spectrogram\n",
    "\n",
    "    # qt == quantile threshold\n",
    "    \n",
    "    qt = tf.math.reduce_max(ps)\n",
    "    ps = tf.where(ps <= qt * 0.01, 0., ps)\n",
    "    \n",
    "    # remove 0s and simplify spectrogram with stats.quantiles\n",
    "    \n",
    "    zero_vector = tf.zeros(shape=(1), dtype=tf.float32)\n",
    "    bool_mask = tf.not_equal(ps, zero_vector)\n",
    "    ps_masked = tf.boolean_mask(ps, bool_mask)\n",
    "\n",
    "    qt_s = tfp.stats.quantiles(ps_masked, num_quantiles=6, interpolation='nearest')\n",
    "    \n",
    "    qt0 = qt_s[0]\n",
    "    qt1 = qt_s[1]\n",
    "    qt2 = qt_s[2]\n",
    "    qt3 = qt_s[3]\n",
    "    qt4 = qt_s[4]\n",
    "    qt5 = qt_s[5]\n",
    "    qt6 = qt_s[6]\n",
    "    \n",
    "    print(qt_s)\n",
    "  \n",
    "    ps = tf.where(ps <= qt0, 0., ps)\n",
    "    ps = tf.where((qt0 <= ps) & (ps <= qt1), 0., ps)\n",
    "    ps = tf.where((qt1 <= ps) & (ps <= qt2), 0., ps)\n",
    "    ps = tf.where((qt2 <= ps) & (ps <= qt3), 0., ps)\n",
    "    ps = tf.where((qt3 <= ps) & (ps <= qt4), 0., ps)\n",
    "    ps = tf.where((qt4 <= ps) & (ps <= qt5), 0.4, ps)\n",
    "    ps = tf.where((qt5 <= ps) & (ps <= qt6), 0.8, ps)\n",
    "    ps = tf.where(ps >= qt6, 1., ps)\n",
    "\n",
    "    simple_spec = ps\n",
    "    \n",
    "    return simple_spec"
   ]
  },
  {
   "cell_type": "markdown",
   "metadata": {},
   "source": [
    "### Trimming Spectrogram"
   ]
  },
  {
   "cell_type": "code",
   "execution_count": 643,
   "metadata": {
    "tags": []
   },
   "outputs": [],
   "source": [
    "def get_mask (bool_mask):\n",
    "    bool_mask_len = tf.cast(tf.shape(bool_mask)[0], tf.int64)\n",
    "    bool_mask_index = tf.where(bool_mask)\n",
    "    bool_mask_max = tf.reduce_max(bool_mask_index)\n",
    "    bool_mask_min = tf.reduce_min(bool_mask_index)\n",
    "\n",
    "    mask = tf.fill([bool_mask_max - bool_mask_min + 1], True)\n",
    "    mask_pad_head = tf.fill([bool_mask_min], False)\n",
    "    mask_pad_tail = tf.fill([bool_mask_len - bool_mask_max - 1], False)\n",
    "    mask = tf.concat([mask_pad_head, mask, mask_pad_tail], axis=0)\n",
    "\n",
    "    return  mask\n",
    "\n",
    "def trim_spec(spectrogram):\n",
    "    \n",
    "    y_collapsed2x = tf.math.reduce_max(spectrogram, axis=0)\n",
    "    x_collapsed2y = tf.math.reduce_max(spectrogram, axis=1)\n",
    "    zero_vector = tf.zeros(shape=(1), dtype=tf.float32)\n",
    "\n",
    "    x_bool_mask = tf.not_equal(y_collapsed2x, zero_vector)\n",
    "    y_bool_mask = tf.not_equal(x_collapsed2y, zero_vector)\n",
    "\n",
    "    mask_x = get_mask(x_bool_mask)\n",
    "    mask_y = get_mask(y_bool_mask)\n",
    "\n",
    "#   如果直接用 bool_mask 会导致一声时 y 轴 裁去太多\n",
    "#     mask_x = x_bool_mask\n",
    "#     mask_y = y_bool_mask\n",
    "\n",
    "    trim_spec = tf.boolean_mask(spectrogram, mask_x, axis=1)\n",
    "    trim_spec = tf.boolean_mask(trim_spec, mask_y, axis=0)\n",
    "\n",
    "    print('trim_spec: ', trim_spec.shape)\n",
    "    trim_spec_shape = tf.shape(trim_spec)\n",
    "    \n",
    "    pad_freq_2 = tf.zeros([trim_spec_shape[0], 128 - trim_spec_shape[1]])\n",
    "    trim_spec = tf.concat([trim_spec, pad_freq_2], 1)\n",
    "    print('trim_spec pad_y: ', trim_spec.shape)\n",
    "    \n",
    "    # if x > 64 strided_slice, if x <64 pad\n",
    "    # 原来预想 64*64, 出现 dmin 报错，现改为 128*128\n",
    "    \n",
    "    trim_spec = tf.strided_slice(trim_spec, [0], [96])\n",
    "    pad_t_0 = tf.zeros([96 - tf.shape(trim_spec)[0], 128])\n",
    "    trim_spec = tf.concat([trim_spec, pad_t_0], 0)\n",
    "    print('trim_spec pad_x: ', trim_spec.shape)\n",
    "\n",
    "#     trim_spec = tf.boolean_mask(spectrogram, x_bool_mask, 1)\n",
    "#     trim_spec = tf.boolean_mask(trim_spec, y_bool_mask, 0)\n",
    "    \n",
    "    return trim_spec"
   ]
  },
  {
   "cell_type": "markdown",
   "metadata": {},
   "source": [
    "### Main Get Spectrogram"
   ]
  },
  {
   "cell_type": "code",
   "execution_count": 644,
   "metadata": {
    "id": "_4CK75DHz_OR"
   },
   "outputs": [],
   "source": [
    "def get_spectrogram(waveform):\n",
    "\n",
    "    print(\"waveform shape:\", tf.shape(waveform))\n",
    "\n",
    "    zero_padding = tf.zeros(audio_length - tf.shape(waveform), dtype=tf.float32)\n",
    "\n",
    "    waveform = tf.cast(waveform, tf.float32)\n",
    "    \n",
    "    equal_length = tf.concat([waveform, zero_padding], 0)\n",
    "    print(\"equal_length = \", equal_length.shape)\n",
    "    stfts = tf.signal.stft(\n",
    "        equal_length, frame_length=frame_length, frame_step=frame_step)  \n",
    "\n",
    "#     stfts = tf.signal.stft(\n",
    "#         waveform, frame_length=frame_length, frame_step=frame_step)  \n",
    "\n",
    "    spectrograms = tf.abs(stfts)\n",
    "\n",
    "    print(spectrograms.shape, spectrograms.dtype)\n",
    "    \n",
    "    # Warp the linear scale spectrograms into the mel-scale.\n",
    "    num_spectrogram_bins = int(stfts.shape[-1])\n",
    "\n",
    "    lower_edge_hertz  = 120.0\n",
    "    upper_edge_hertz  = 600.0\n",
    "    num_mel_bins = 128\n",
    "    sample_rate = 48000\n",
    "\n",
    "    linear_to_mel_weight_matrix = tf.signal.linear_to_mel_weight_matrix(\n",
    "    num_mel_bins, num_spectrogram_bins, sample_rate, lower_edge_hertz,\n",
    "    upper_edge_hertz)\n",
    "\n",
    "    mel_spectrograms = tf.tensordot(\n",
    "    spectrograms, linear_to_mel_weight_matrix, 1)\n",
    "\n",
    "    mel_spectrograms.set_shape(spectrograms.shape[:-1].concatenate(\n",
    "    linear_to_mel_weight_matrix.shape[-1:]))\n",
    "\n",
    "    spectrogram = mel_spectrograms\n",
    "    spectrogram = simple_spec(spectrogram)\n",
    "    spectrogram = trim_spec(spectrogram)\n",
    "    \n",
    "    #   resized_spectrogram = tf.expand_dims(spectrogram, axis=-1)\n",
    "    spectrogram = tf.expand_dims(spectrogram, axis=0)\n",
    "    spectrogram = tf.expand_dims(spectrogram, axis=-1)\n",
    "    spectrogram = tf.image.resize(spectrogram, [48, 48], preserve_aspect_ratio=False)\n",
    "    spectrogram = tf.squeeze(spectrogram)\n",
    "    \n",
    "    return spectrogram"
   ]
  },
  {
   "cell_type": "markdown",
   "metadata": {
    "id": "5rdPiPYJphs2"
   },
   "source": [
    "Next, you will explore the data. Compare the waveform, the spectrogram and the actual audio of one example from the dataset."
   ]
  },
  {
   "cell_type": "code",
   "execution_count": 645,
   "metadata": {
    "colab": {
     "base_uri": "https://localhost:8080/",
     "height": 971
    },
    "id": "4Mu6Y7Yz3C-V",
    "outputId": "2e3bf6c8-3084-418b-e901-b3abaae2daad"
   },
   "outputs": [
    {
     "name": "stdout",
     "output_type": "stream",
     "text": [
      "waveform shape: tf.Tensor([34483], shape=(1,), dtype=int32)\n",
      "equal_length =  (72000,)\n",
      "(97, 8193) <dtype: 'float32'>\n",
      "tf.Tensor(\n",
      "[  4.079602    7.6788983  12.651506   20.579512   38.33883    95.6443\n",
      " 407.6079   ], shape=(7,), dtype=float32)\n",
      "trim_spec:  (45, 128)\n",
      "trim_spec pad_y:  (45, 128)\n",
      "trim_spec pad_x:  (96, 128)\n",
      "Label: 3\n",
      "Waveform shape: (34483,)\n",
      "plot\n",
      "Audio playback\n"
     ]
    },
    {
     "data": {
      "text/html": [
       "\n",
       "                <audio  controls=\"controls\" >\n",
       "                    <source src=\"data:audio/wav;base64,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\" type=\"audio/wav\" />\n",
       "                    Your browser does not support the audio element.\n",
       "                </audio>\n",
       "              "
      ],
      "text/plain": [
       "<IPython.lib.display.Audio object>"
      ]
     },
     "metadata": {},
     "output_type": "display_data"
    },
    {
     "name": "stdout",
     "output_type": "stream",
     "text": [
      "\n",
      "\n"
     ]
    },
    {
     "data": {
      "image/png": "[encoded data removed]",
      "text/plain": [
       "<Figure size 360x720 with 2 Axes>"
      ]
     },
     "metadata": {
      "needs_background": "light"
     },
     "output_type": "display_data"
    }
   ],
   "source": [
    "# for waveform, label, file_path in waveform_ds.take(1):\n",
    "for waveform, label in waveform_ds.take(1):\n",
    "    label = label.numpy().decode('utf-8')\n",
    "    spectrogram = get_spectrogram(waveform)\n",
    "    print('Label:', label)\n",
    "    print('Waveform shape:', waveform.shape)\n",
    "\n",
    "    print(\"plot\")\n",
    "\n",
    "    def plot_spectrogram(spectrogram, ax):\n",
    "        log_spec = spectrogram.T\n",
    "        length = log_spec.shape[1]\n",
    "        height = log_spec.shape[0]\n",
    "    #     X = np.arange(spectro_x * (height + 1), step = height + 1)\n",
    "        X = range(length)\n",
    "        Y = range(height)\n",
    "        # print('X = ', X)\n",
    "        # print('Y = ', Y)\n",
    "        ax.pcolormesh(X, Y, log_spec,shading='auto')\n",
    "\n",
    "    fig, axes = plt.subplots(2, figsize=(5, 10))\n",
    "    timescale = np.arange(waveform.shape[0])\n",
    "\n",
    "#     plot_spectrogram(spectrogram.numpy(), axes[0])\n",
    "    plot_spectrogram(spectrogram.numpy(), axes[0])\n",
    "\n",
    "    axes[0].set_title('percentile_Spectrogram')\n",
    "\n",
    "    # plot_norm_spectrogram(resized_spectrogram.numpy(), axes[1])\n",
    "    # axes[1].set_title('resized_spectrogram')\n",
    "    # plt.show()\n",
    "#     print(\"end of plot\")\n",
    "\n",
    "\n",
    "    print('Audio playback')\n",
    "    display.display(display.Audio(waveform, rate=48000))\n",
    "    print(\"\\n\")"
   ]
  },
  {
   "cell_type": "markdown",
   "metadata": {},
   "source": [
    "### Test one\n",
    "\n",
    "test one"
   ]
  },
  {
   "cell_type": "code",
   "execution_count": 646,
   "metadata": {
    "colab": {
     "base_uri": "https://localhost:8080/",
     "height": 699
    },
    "id": "e62jzb36-Jog",
    "outputId": "f2ea191d-0d13-4d5e-dc2f-42dbd2fc7e3e",
    "tags": []
   },
   "outputs": [],
   "source": [
    "def plot_spectrogram(spectrogram, ax):\n",
    "  # Convert to frequencies to log scale and transpose so that the time is\n",
    "  # represented in the x-axis (columns).\n",
    "\n",
    "  # 原教材中做了 log，此处把log 略去不做了。\n",
    "  # log_spec = np.log(spectrogram.T)\n",
    "\n",
    "    log_spec = spectrogram.T\n",
    "\n",
    "    length = log_spec.shape[1]\n",
    "    height = log_spec.shape[0]\n",
    "#   X = np.arange(spectro_x * (height + 1), step = height + 1)\n",
    "    \n",
    "    X = range(length)\n",
    "    Y = range(height)\n",
    "    \n",
    "\n",
    "    ax.pcolormesh(X, Y, log_spec, shading='auto')\n",
    "\n",
    "# fig, axes = plt.subplots(2, figsize=(5, 10))\n",
    "# timescale = np.arange(waveform.shape[0])\n",
    "\n",
    "# axes[0].plot(timescale, waveform.numpy())\n",
    "# axes[0].set_title('Waveform')\n",
    "# axes[0].set_xlim([0, 48000*2])\n",
    "\n",
    "# plot_spectrogram(spectrogram.numpy(), axes[1])\n",
    "# axes[1].set_title('Spectrogram')\n",
    "\n",
    "# plt.show()\n",
    "# print(\"\\n\")\n",
    "# display.display(display.Audio(waveform, rate=48000))"
   ]
  },
  {
   "cell_type": "markdown",
   "metadata": {
    "id": "GyYXjW07jCHA"
   },
   "source": [
    "Now transform the waveform dataset to have spectrogram images and their corresponding labels as integer IDs."
   ]
  },
  {
   "cell_type": "code",
   "execution_count": 647,
   "metadata": {
    "id": "43IS2IouEV40"
   },
   "outputs": [],
   "source": [
    "def get_spectrogram_and_label_id(audio, label):\n",
    "    spectrogram = get_spectrogram(audio)\n",
    "    spectrogram = tf.expand_dims(spectrogram, -1)\n",
    "\n",
    "    label_id = tf.argmax(label == tones)\n",
    "    \n",
    "    return spectrogram, label_id"
   ]
  },
  {
   "cell_type": "code",
   "execution_count": 648,
   "metadata": {
    "colab": {
     "base_uri": "https://localhost:8080/"
    },
    "id": "yEVb_oK0oBLQ",
    "outputId": "3837efc5-1c73-4f7d-cbaa-e04defedc19c"
   },
   "outputs": [
    {
     "name": "stdout",
     "output_type": "stream",
     "text": [
      "waveform shape: Tensor(\"Shape:0\", shape=(1,), dtype=int32)\n",
      "equal_length =  (None,)\n",
      "(None, 8193) <dtype: 'float32'>\n",
      "Tensor(\"quantiles/percentile/SelectV2:0\", shape=(7,), dtype=float32)\n",
      "trim_spec:  (None, None)\n",
      "trim_spec pad_y:  (None, None)\n",
      "trim_spec pad_x:  (None, 128)\n"
     ]
    }
   ],
   "source": [
    "spectrogram_ds = waveform_ds.map(\n",
    "    get_spectrogram_and_label_id, num_parallel_calls=AUTOTUNE)"
   ]
  },
  {
   "cell_type": "markdown",
   "metadata": {
    "id": "6gQpAAgMnyDi"
   },
   "source": [
    "Examine the spectrogram \"images\" for different samples of the dataset."
   ]
  },
  {
   "cell_type": "code",
   "execution_count": 649,
   "metadata": {
    "colab": {
     "base_uri": "https://localhost:8080/",
     "height": 839
    },
    "id": "QUbHfTuon4iF",
    "outputId": "a7e9ad35-74ac-4973-c431-334ecd026b99"
   },
   "outputs": [
    {
     "data": {
      "image/png": "[encoded data removed]",
      "text/plain": [
       "<Figure size 2160x2160 with 25 Axes>"
      ]
     },
     "metadata": {
      "needs_background": "light"
     },
     "output_type": "display_data"
    }
   ],
   "source": [
    "rows = 5\n",
    "cols = 5\n",
    "n = rows*cols\n",
    "fig, axes = plt.subplots(rows, cols, figsize=(30, 30))\n",
    "\n",
    "\n",
    "for i, (spectrogram, label_id) in enumerate(spectrogram_ds.take(n)):\n",
    "\n",
    "    r = i // cols\n",
    "    c = i % cols\n",
    "    ax = axes[r][c]\n",
    "\n",
    "    plot_spectrogram(np.squeeze(spectrogram.numpy()), ax)\n",
    "    ax.set_title(tones[label_id.numpy()])\n",
    "    ax.axis('off')\n",
    "  \n",
    "plt.show()"
   ]
  },
  {
   "cell_type": "markdown",
   "metadata": {},
   "source": [
    "### test all"
   ]
  },
  {
   "cell_type": "markdown",
   "metadata": {
    "id": "z5KdY8IF8rkt"
   },
   "source": [
    "## Build and train the model\n",
    "\n",
    "Now you can build and train your model. But before you do that, you'll need to repeat the training set preprocessing on the validation and test sets."
   ]
  },
  {
   "cell_type": "code",
   "execution_count": 650,
   "metadata": {
    "id": "10UI32QH_45b"
   },
   "outputs": [],
   "source": [
    "def preprocess_dataset(files):\n",
    "    files_ds = tf.data.Dataset.from_tensor_slices(files)\n",
    "    output_ds = files_ds.map(get_waveform_and_label, num_parallel_calls=AUTOTUNE)\n",
    "    output_ds = output_ds.map(\n",
    "      get_spectrogram_and_label_id,  num_parallel_calls=AUTOTUNE)\n",
    "    return output_ds"
   ]
  },
  {
   "cell_type": "code",
   "execution_count": 651,
   "metadata": {
    "colab": {
     "base_uri": "https://localhost:8080/"
    },
    "id": "HNv4xwYkB2P6",
    "outputId": "273bfc01-9310-4c7f-e68e-986b45b4a893"
   },
   "outputs": [
    {
     "name": "stdout",
     "output_type": "stream",
     "text": [
      "Tone: Tensor(\"strided_slice:0\", shape=(), dtype=string)\n",
      "waveform shape: Tensor(\"Shape:0\", shape=(1,), dtype=int32)\n",
      "equal_length =  (None,)\n",
      "(None, 8193) <dtype: 'float32'>\n",
      "Tensor(\"quantiles/percentile/SelectV2:0\", shape=(7,), dtype=float32)\n",
      "trim_spec:  (None, None)\n",
      "trim_spec pad_y:  (None, None)\n",
      "trim_spec pad_x:  (None, 128)\n",
      "Tone: Tensor(\"strided_slice:0\", shape=(), dtype=string)\n",
      "waveform shape: Tensor(\"Shape:0\", shape=(1,), dtype=int32)\n",
      "equal_length =  (None,)\n",
      "(None, 8193) <dtype: 'float32'>\n",
      "Tensor(\"quantiles/percentile/SelectV2:0\", shape=(7,), dtype=float32)\n",
      "trim_spec:  (None, None)\n",
      "trim_spec pad_y:  (None, None)\n",
      "trim_spec pad_x:  (None, 128)\n"
     ]
    }
   ],
   "source": [
    "train_ds = spectrogram_ds\n",
    "val_ds = preprocess_dataset(val_files)\n",
    "test_ds = preprocess_dataset(test_files)"
   ]
  },
  {
   "cell_type": "markdown",
   "metadata": {},
   "source": [
    "### Change Test folder Shortcut"
   ]
  },
  {
   "cell_type": "markdown",
   "metadata": {
    "id": "assnWo6SB3lR"
   },
   "source": [
    "Batch the training and validation sets for model training."
   ]
  },
  {
   "cell_type": "code",
   "execution_count": 652,
   "metadata": {
    "id": "UgY9WYzn61EX",
    "tags": []
   },
   "outputs": [],
   "source": [
    "batch_size = 80\n",
    "train_ds = train_ds.batch(batch_size)\n",
    "val_ds = val_ds.batch(batch_size)"
   ]
  },
  {
   "cell_type": "markdown",
   "metadata": {
    "id": "GS1uIh6F_TN9"
   },
   "source": [
    "Add dataset [`cache()`](https://www.tensorflow.org/api_docs/python/tf/data/Dataset#cache) and [`prefetch()`](https://www.tensorflow.org/api_docs/python/tf/data/Dataset#prefetch) operations to reduce read latency while training the model."
   ]
  },
  {
   "cell_type": "code",
   "execution_count": 653,
   "metadata": {
    "id": "fdZ6M-F5_QzY",
    "tags": []
   },
   "outputs": [],
   "source": [
    "train_ds = train_ds.cache().prefetch(AUTOTUNE)\n",
    "val_ds = val_ds.cache().prefetch(AUTOTUNE)"
   ]
  },
  {
   "cell_type": "markdown",
   "metadata": {
    "id": "rwHkKCQQb5oW"
   },
   "source": [
    "For the model, you'll use a simple convolutional neural network (CNN), since you have transformed the audio files into spectrogram images.\n",
    "The model also has the following additional preprocessing layers:\n",
    "- A [`Resizing`](https://www.tensorflow.org/api_docs/python/tf/keras/layers/experimental/preprocessing/Resizing) layer to downsample the input to enable the model to train faster.\n",
    "- A [`Normalization`](https://www.tensorflow.org/api_docs/python/tf/keras/layers/experimental/preprocessing/Normalization) layer to normalize each pixel in the image based on its mean and standard deviation.\n",
    "\n",
    "For the `Normalization` layer, its `adapt` method would first need to be called on the training data in order to compute aggregate statistics (i.e. mean and standard deviation)."
   ]
  },
  {
   "cell_type": "markdown",
   "metadata": {},
   "source": [
    "### Tweak the model"
   ]
  },
  {
   "cell_type": "code",
   "execution_count": 682,
   "metadata": {
    "colab": {
     "base_uri": "https://localhost:8080/"
    },
    "id": "ALYz7PFCHblP",
    "outputId": "0c9324da-27a4-4010-b11a-f956017bd375",
    "tags": []
   },
   "outputs": [
    {
     "name": "stdout",
     "output_type": "stream",
     "text": [
      "Input shape: (48, 48, 1)\n",
      "norm_layer:  <tensorflow.python.keras.layers.preprocessing.normalization.Normalization object at 0x000001F52699FAC0>\n",
      "norm_layer adapted:  <tensorflow.python.keras.layers.preprocessing.normalization.Normalization object at 0x000001F52699FAC0>\n",
      "Model: \"sequential_8\"\n",
      "_________________________________________________________________\n",
      "Layer (type)                 Output Shape              Param #   \n",
      "=================================================================\n",
      "resizing_8 (Resizing)        (None, 64, 64, 1)         0         \n",
      "_________________________________________________________________\n",
      "max_pooling2d_8 (MaxPooling2 (None, 32, 32, 1)         0         \n",
      "_________________________________________________________________\n",
      "dropout_16 (Dropout)         (None, 32, 32, 1)         0         \n",
      "_________________________________________________________________\n",
      "flatten_8 (Flatten)          (None, 1024)              0         \n",
      "_________________________________________________________________\n",
      "dense_16 (Dense)             (None, 32)                32800     \n",
      "_________________________________________________________________\n",
      "dropout_17 (Dropout)         (None, 32)                0         \n",
      "_________________________________________________________________\n",
      "dense_17 (Dense)             (None, 4)                 132       \n",
      "=================================================================\n",
      "Total params: 32,932\n",
      "Trainable params: 32,932\n",
      "Non-trainable params: 0\n",
      "_________________________________________________________________\n"
     ]
    }
   ],
   "source": [
    "for spectrogram, _  in spectrogram_ds.take(1):\n",
    "    input_shape = spectrogram.shape\n",
    "print('Input shape:', input_shape)\n",
    "num_labels = len(tones)\n",
    "\n",
    "norm_layer = preprocessing.Normalization()\n",
    "print(\"norm_layer: \", norm_layer)\n",
    "# norm_layer.adapt(spectrogram_ds.map(lambda x, y, z: x))\n",
    "# norm_layer.adapt(spectrogram_ds.map(lambda x, _: x))\n",
    "print(\"norm_layer adapted: \", norm_layer)\n",
    "\n",
    "\n",
    "model = models.Sequential([\n",
    "    layers.Input(shape=input_shape),\n",
    "    preprocessing.Resizing(64, 64), \n",
    "    # norm_layer,\n",
    "#     layers.Conv2D(8, 3, activation='relu'),\n",
    "#     layers.Conv2D(32, 3, activation='relu'),\n",
    "#     layers.Conv2D(64, 3, activation='relu'),\n",
    "    layers.MaxPooling2D(),\n",
    "    layers.Dropout(0.2),\n",
    "    layers.Flatten(),\n",
    "#     layers.Dense(512*4, activation='relu'),\n",
    "#     layers.Dropout(0.2),\n",
    "    layers.Dense(32, activation='relu'),\n",
    "    layers.Dropout(0.2),\n",
    "    layers.Dense(4),\n",
    "])\n",
    "\n",
    "model.summary()"
   ]
  },
  {
   "cell_type": "code",
   "execution_count": 683,
   "metadata": {
    "id": "wFjj7-EmsTD-",
    "tags": []
   },
   "outputs": [],
   "source": [
    "model.compile(\n",
    "    optimizer=tf.keras.optimizers.Adam(),\n",
    "    loss=tf.keras.losses.SparseCategoricalCrossentropy(from_logits=True),\n",
    "    metrics=['accuracy'],\n",
    ")"
   ]
  },
  {
   "cell_type": "code",
   "execution_count": 684,
   "metadata": {
    "id": "epzmDwXhTcwg",
    "tags": []
   },
   "outputs": [],
   "source": [
    "# model_path = '/content/drive/MyDrive/PHI/'\n",
    "model_path = 'Y:/PycharmProjects/'\n",
    "training_date = '210413_4'\n",
    "model_file = model_path + 'model_' + training_date + '.h5'"
   ]
  },
  {
   "cell_type": "code",
   "execution_count": 685,
   "metadata": {
    "colab": {
     "base_uri": "https://localhost:8080/"
    },
    "id": "ttioPJVMcGtq",
    "outputId": "8b7f34b4-9036-4b70-d91a-53bee7f8af71",
    "tags": []
   },
   "outputs": [
    {
     "name": "stdout",
     "output_type": "stream",
     "text": [
      "Epoch 1/100\n",
      "52/52 [==============================] - 1s 9ms/step - loss: 1.0132 - accuracy: 0.6128 - val_loss: 0.3208 - val_accuracy: 0.9360\n",
      "\n",
      "Epoch 00001: val_loss improved from inf to 0.32080, saving model to Y:/PycharmProjects\\model_210413_4.h5\n",
      "Epoch 2/100\n",
      "52/52 [==============================] - 0s 7ms/step - loss: 0.3142 - accuracy: 0.9248 - val_loss: 0.1913 - val_accuracy: 0.9575\n",
      "\n",
      "Epoch 00002: val_loss improved from 0.32080 to 0.19128, saving model to Y:/PycharmProjects\\model_210413_4.h5\n",
      "Epoch 3/100\n",
      "52/52 [==============================] - 0s 7ms/step - loss: 0.2106 - accuracy: 0.9441 - val_loss: 0.1403 - val_accuracy: 0.9677\n",
      "\n",
      "Epoch 00003: val_loss improved from 0.19128 to 0.14030, saving model to Y:/PycharmProjects\\model_210413_4.h5\n",
      "Epoch 4/100\n",
      "52/52 [==============================] - 0s 7ms/step - loss: 0.1577 - accuracy: 0.9576 - val_loss: 0.1201 - val_accuracy: 0.9717\n",
      "\n",
      "Epoch 00004: val_loss improved from 0.14030 to 0.12009, saving model to Y:/PycharmProjects\\model_210413_4.h5\n",
      "Epoch 5/100\n",
      "52/52 [==============================] - 0s 7ms/step - loss: 0.1352 - accuracy: 0.9638 - val_loss: 0.0996 - val_accuracy: 0.9739\n",
      "\n",
      "Epoch 00005: val_loss improved from 0.12009 to 0.09961, saving model to Y:/PycharmProjects\\model_210413_4.h5\n",
      "Epoch 6/100\n",
      "52/52 [==============================] - 0s 7ms/step - loss: 0.1181 - accuracy: 0.9668 - val_loss: 0.0903 - val_accuracy: 0.9768\n",
      "\n",
      "Epoch 00006: val_loss improved from 0.09961 to 0.09029, saving model to Y:/PycharmProjects\\model_210413_4.h5\n",
      "Epoch 7/100\n",
      "52/52 [==============================] - 0s 7ms/step - loss: 0.1011 - accuracy: 0.9739 - val_loss: 0.0828 - val_accuracy: 0.9768\n",
      "\n",
      "Epoch 00007: val_loss improved from 0.09029 to 0.08280, saving model to Y:/PycharmProjects\\model_210413_4.h5\n",
      "Epoch 8/100\n",
      "52/52 [==============================] - 0s 7ms/step - loss: 0.0939 - accuracy: 0.9753 - val_loss: 0.0782 - val_accuracy: 0.9773\n",
      "\n",
      "Epoch 00008: val_loss improved from 0.08280 to 0.07824, saving model to Y:/PycharmProjects\\model_210413_4.h5\n",
      "Epoch 9/100\n",
      "52/52 [==============================] - 0s 7ms/step - loss: 0.0830 - accuracy: 0.9755 - val_loss: 0.0694 - val_accuracy: 0.9807\n",
      "\n",
      "Epoch 00009: val_loss improved from 0.07824 to 0.06938, saving model to Y:/PycharmProjects\\model_210413_4.h5\n",
      "Epoch 10/100\n",
      "52/52 [==============================] - 0s 7ms/step - loss: 0.0794 - accuracy: 0.9767 - val_loss: 0.0663 - val_accuracy: 0.9836\n",
      "\n",
      "Epoch 00010: val_loss improved from 0.06938 to 0.06632, saving model to Y:/PycharmProjects\\model_210413_4.h5\n",
      "Epoch 11/100\n",
      "52/52 [==============================] - 0s 7ms/step - loss: 0.0735 - accuracy: 0.9784 - val_loss: 0.0631 - val_accuracy: 0.9824\n",
      "\n",
      "Epoch 00011: val_loss improved from 0.06632 to 0.06314, saving model to Y:/PycharmProjects\\model_210413_4.h5\n",
      "Epoch 12/100\n",
      "52/52 [==============================] - 0s 7ms/step - loss: 0.0640 - accuracy: 0.9823 - val_loss: 0.0586 - val_accuracy: 0.9847\n",
      "\n",
      "Epoch 00012: val_loss improved from 0.06314 to 0.05862, saving model to Y:/PycharmProjects\\model_210413_4.h5\n",
      "Epoch 13/100\n",
      "52/52 [==============================] - 0s 7ms/step - loss: 0.0592 - accuracy: 0.9840 - val_loss: 0.0595 - val_accuracy: 0.9841\n",
      "\n",
      "Epoch 00013: val_loss did not improve from 0.05862\n",
      "Epoch 14/100\n",
      "52/52 [==============================] - 0s 8ms/step - loss: 0.0571 - accuracy: 0.9842 - val_loss: 0.0580 - val_accuracy: 0.9841\n",
      "\n",
      "Epoch 00014: val_loss improved from 0.05862 to 0.05804, saving model to Y:/PycharmProjects\\model_210413_4.h5\n",
      "Epoch 15/100\n",
      "52/52 [==============================] - 0s 7ms/step - loss: 0.0597 - accuracy: 0.9802 - val_loss: 0.0536 - val_accuracy: 0.9847\n",
      "\n",
      "Epoch 00015: val_loss improved from 0.05804 to 0.05359, saving model to Y:/PycharmProjects\\model_210413_4.h5\n",
      "Epoch 16/100\n",
      "52/52 [==============================] - 0s 7ms/step - loss: 0.0473 - accuracy: 0.9861 - val_loss: 0.0509 - val_accuracy: 0.9858\n",
      "\n",
      "Epoch 00016: val_loss improved from 0.05359 to 0.05088, saving model to Y:/PycharmProjects\\model_210413_4.h5\n",
      "Epoch 17/100\n",
      "52/52 [==============================] - 0s 7ms/step - loss: 0.0496 - accuracy: 0.9869 - val_loss: 0.0473 - val_accuracy: 0.9870\n",
      "\n",
      "Epoch 00017: val_loss improved from 0.05088 to 0.04726, saving model to Y:/PycharmProjects\\model_210413_4.h5\n",
      "Epoch 18/100\n",
      "52/52 [==============================] - 0s 7ms/step - loss: 0.0436 - accuracy: 0.9905 - val_loss: 0.0469 - val_accuracy: 0.9870\n",
      "\n",
      "Epoch 00018: val_loss improved from 0.04726 to 0.04692, saving model to Y:/PycharmProjects\\model_210413_4.h5\n",
      "Epoch 19/100\n",
      "52/52 [==============================] - 0s 7ms/step - loss: 0.0428 - accuracy: 0.9876 - val_loss: 0.0524 - val_accuracy: 0.9841\n",
      "\n",
      "Epoch 00019: val_loss did not improve from 0.04692\n",
      "Epoch 20/100\n",
      "52/52 [==============================] - 0s 7ms/step - loss: 0.0420 - accuracy: 0.9896 - val_loss: 0.0454 - val_accuracy: 0.9875\n",
      "\n",
      "Epoch 00020: val_loss improved from 0.04692 to 0.04541, saving model to Y:/PycharmProjects\\model_210413_4.h5\n",
      "Epoch 21/100\n",
      "52/52 [==============================] - 0s 7ms/step - loss: 0.0337 - accuracy: 0.9896 - val_loss: 0.0458 - val_accuracy: 0.9881\n",
      "\n",
      "Epoch 00021: val_loss did not improve from 0.04541\n",
      "Epoch 22/100\n",
      "52/52 [==============================] - 0s 7ms/step - loss: 0.0417 - accuracy: 0.9840 - val_loss: 0.0441 - val_accuracy: 0.9881\n",
      "\n",
      "Epoch 00022: val_loss improved from 0.04541 to 0.04406, saving model to Y:/PycharmProjects\\model_210413_4.h5\n",
      "Epoch 23/100\n",
      "52/52 [==============================] - 0s 8ms/step - loss: 0.0399 - accuracy: 0.9885 - val_loss: 0.0460 - val_accuracy: 0.9864\n",
      "\n",
      "Epoch 00023: val_loss did not improve from 0.04406\n",
      "Epoch 24/100\n",
      "52/52 [==============================] - 0s 7ms/step - loss: 0.0322 - accuracy: 0.9919 - val_loss: 0.0455 - val_accuracy: 0.9875\n",
      "\n",
      "Epoch 00024: val_loss did not improve from 0.04406\n",
      "Epoch 25/100\n",
      "52/52 [==============================] - 0s 7ms/step - loss: 0.0305 - accuracy: 0.9924 - val_loss: 0.0427 - val_accuracy: 0.9870\n",
      "\n",
      "Epoch 00025: val_loss improved from 0.04406 to 0.04272, saving model to Y:/PycharmProjects\\model_210413_4.h5\n",
      "Epoch 26/100\n",
      "52/52 [==============================] - 0s 8ms/step - loss: 0.0264 - accuracy: 0.9925 - val_loss: 0.0414 - val_accuracy: 0.9881\n",
      "\n",
      "Epoch 00026: val_loss improved from 0.04272 to 0.04139, saving model to Y:/PycharmProjects\\model_210413_4.h5\n",
      "Epoch 27/100\n",
      "52/52 [==============================] - 0s 7ms/step - loss: 0.0299 - accuracy: 0.9916 - val_loss: 0.0401 - val_accuracy: 0.9875\n",
      "\n",
      "Epoch 00027: val_loss improved from 0.04139 to 0.04010, saving model to Y:/PycharmProjects\\model_210413_4.h5\n",
      "Epoch 28/100\n",
      "52/52 [==============================] - 0s 7ms/step - loss: 0.0359 - accuracy: 0.9883 - val_loss: 0.0418 - val_accuracy: 0.9875\n",
      "\n",
      "Epoch 00028: val_loss did not improve from 0.04010\n",
      "Epoch 29/100\n",
      "52/52 [==============================] - 0s 7ms/step - loss: 0.0284 - accuracy: 0.9912 - val_loss: 0.0394 - val_accuracy: 0.9875\n",
      "\n",
      "Epoch 00029: val_loss improved from 0.04010 to 0.03944, saving model to Y:/PycharmProjects\\model_210413_4.h5\n",
      "Epoch 30/100\n",
      "52/52 [==============================] - 0s 7ms/step - loss: 0.0258 - accuracy: 0.9940 - val_loss: 0.0436 - val_accuracy: 0.9864\n",
      "\n",
      "Epoch 00030: val_loss did not improve from 0.03944\n",
      "Epoch 31/100\n",
      "52/52 [==============================] - 0s 7ms/step - loss: 0.0274 - accuracy: 0.9936 - val_loss: 0.0403 - val_accuracy: 0.9887\n",
      "\n",
      "Epoch 00031: val_loss did not improve from 0.03944\n",
      "Epoch 32/100\n",
      "52/52 [==============================] - 0s 7ms/step - loss: 0.0254 - accuracy: 0.9929 - val_loss: 0.0424 - val_accuracy: 0.9875\n",
      "\n",
      "Epoch 00032: val_loss did not improve from 0.03944\n",
      "Epoch 33/100\n",
      "52/52 [==============================] - 0s 7ms/step - loss: 0.0211 - accuracy: 0.9944 - val_loss: 0.0408 - val_accuracy: 0.9881\n",
      "\n",
      "Epoch 00033: val_loss did not improve from 0.03944\n",
      "Epoch 34/100\n",
      "52/52 [==============================] - 0s 7ms/step - loss: 0.0217 - accuracy: 0.9936 - val_loss: 0.0418 - val_accuracy: 0.9881\n",
      "\n",
      "Epoch 00034: val_loss did not improve from 0.03944\n",
      "Epoch 35/100\n",
      "52/52 [==============================] - 0s 7ms/step - loss: 0.0226 - accuracy: 0.9940 - val_loss: 0.0409 - val_accuracy: 0.9881\n",
      "\n",
      "Epoch 00035: val_loss did not improve from 0.03944\n",
      "Epoch 36/100\n",
      "52/52 [==============================] - 0s 7ms/step - loss: 0.0227 - accuracy: 0.9928 - val_loss: 0.0387 - val_accuracy: 0.9875\n",
      "\n",
      "Epoch 00036: val_loss improved from 0.03944 to 0.03868, saving model to Y:/PycharmProjects\\model_210413_4.h5\n",
      "Epoch 37/100\n",
      "52/52 [==============================] - 0s 7ms/step - loss: 0.0199 - accuracy: 0.9947 - val_loss: 0.0394 - val_accuracy: 0.9898\n",
      "\n",
      "Epoch 00037: val_loss did not improve from 0.03868\n",
      "Epoch 38/100\n",
      "52/52 [==============================] - 0s 7ms/step - loss: 0.0170 - accuracy: 0.9967 - val_loss: 0.0380 - val_accuracy: 0.9892\n",
      "\n",
      "Epoch 00038: val_loss improved from 0.03868 to 0.03802, saving model to Y:/PycharmProjects\\model_210413_4.h5\n",
      "Epoch 39/100\n",
      "52/52 [==============================] - 0s 7ms/step - loss: 0.0155 - accuracy: 0.9952 - val_loss: 0.0371 - val_accuracy: 0.9904\n",
      "\n",
      "Epoch 00039: val_loss improved from 0.03802 to 0.03709, saving model to Y:/PycharmProjects\\model_210413_4.h5\n",
      "Epoch 40/100\n",
      "52/52 [==============================] - 0s 7ms/step - loss: 0.0191 - accuracy: 0.9958 - val_loss: 0.0388 - val_accuracy: 0.9881\n",
      "\n",
      "Epoch 00040: val_loss did not improve from 0.03709\n",
      "Epoch 41/100\n",
      "52/52 [==============================] - 0s 7ms/step - loss: 0.0200 - accuracy: 0.9957 - val_loss: 0.0385 - val_accuracy: 0.9904\n",
      "\n",
      "Epoch 00041: val_loss did not improve from 0.03709\n",
      "Epoch 42/100\n",
      "52/52 [==============================] - 0s 7ms/step - loss: 0.0180 - accuracy: 0.9952 - val_loss: 0.0362 - val_accuracy: 0.9915\n",
      "\n",
      "Epoch 00042: val_loss improved from 0.03709 to 0.03623, saving model to Y:/PycharmProjects\\model_210413_4.h5\n",
      "Epoch 43/100\n",
      "52/52 [==============================] - 0s 7ms/step - loss: 0.0173 - accuracy: 0.9955 - val_loss: 0.0397 - val_accuracy: 0.9892\n",
      "\n",
      "Epoch 00043: val_loss did not improve from 0.03623\n",
      "Epoch 44/100\n",
      "52/52 [==============================] - 0s 7ms/step - loss: 0.0199 - accuracy: 0.9945 - val_loss: 0.0380 - val_accuracy: 0.9892\n",
      "\n",
      "Epoch 00044: val_loss did not improve from 0.03623\n",
      "Epoch 45/100\n",
      "52/52 [==============================] - 0s 7ms/step - loss: 0.0159 - accuracy: 0.9943 - val_loss: 0.0363 - val_accuracy: 0.9898\n",
      "\n",
      "Epoch 00045: val_loss did not improve from 0.03623\n",
      "Epoch 46/100\n",
      "52/52 [==============================] - 0s 7ms/step - loss: 0.0181 - accuracy: 0.9947 - val_loss: 0.0371 - val_accuracy: 0.9909\n",
      "\n",
      "Epoch 00046: val_loss did not improve from 0.03623\n",
      "Epoch 47/100\n",
      "52/52 [==============================] - 0s 7ms/step - loss: 0.0122 - accuracy: 0.9975 - val_loss: 0.0392 - val_accuracy: 0.9875\n",
      "\n",
      "Epoch 00047: val_loss did not improve from 0.03623\n",
      "Epoch 48/100\n",
      "52/52 [==============================] - 0s 7ms/step - loss: 0.0146 - accuracy: 0.9961 - val_loss: 0.0353 - val_accuracy: 0.9904\n",
      "\n",
      "Epoch 00048: val_loss improved from 0.03623 to 0.03532, saving model to Y:/PycharmProjects\\model_210413_4.h5\n",
      "Epoch 49/100\n",
      "52/52 [==============================] - 0s 7ms/step - loss: 0.0122 - accuracy: 0.9972 - val_loss: 0.0357 - val_accuracy: 0.9892\n",
      "\n",
      "Epoch 00049: val_loss did not improve from 0.03532\n",
      "Epoch 50/100\n",
      "52/52 [==============================] - 0s 7ms/step - loss: 0.0178 - accuracy: 0.9931 - val_loss: 0.0362 - val_accuracy: 0.9898\n",
      "\n",
      "Epoch 00050: val_loss did not improve from 0.03532\n",
      "Epoch 51/100\n",
      "52/52 [==============================] - 0s 7ms/step - loss: 0.0132 - accuracy: 0.9958 - val_loss: 0.0380 - val_accuracy: 0.9904\n",
      "\n",
      "Epoch 00051: val_loss did not improve from 0.03532\n",
      "Epoch 52/100\n",
      "52/52 [==============================] - 0s 7ms/step - loss: 0.0159 - accuracy: 0.9956 - val_loss: 0.0373 - val_accuracy: 0.9909\n",
      "\n",
      "Epoch 00052: val_loss did not improve from 0.03532\n",
      "Epoch 53/100\n",
      "52/52 [==============================] - 0s 7ms/step - loss: 0.0121 - accuracy: 0.9980 - val_loss: 0.0343 - val_accuracy: 0.9921\n",
      "\n",
      "Epoch 00053: val_loss improved from 0.03532 to 0.03427, saving model to Y:/PycharmProjects\\model_210413_4.h5\n",
      "Epoch 54/100\n",
      "52/52 [==============================] - 0s 7ms/step - loss: 0.0119 - accuracy: 0.9965 - val_loss: 0.0376 - val_accuracy: 0.9904\n",
      "\n",
      "Epoch 00054: val_loss did not improve from 0.03427\n",
      "Epoch 55/100\n",
      "52/52 [==============================] - 0s 7ms/step - loss: 0.0141 - accuracy: 0.9966 - val_loss: 0.0376 - val_accuracy: 0.9904\n",
      "\n",
      "Epoch 00055: val_loss did not improve from 0.03427\n",
      "Epoch 56/100\n",
      "52/52 [==============================] - 0s 7ms/step - loss: 0.0099 - accuracy: 0.9987 - val_loss: 0.0392 - val_accuracy: 0.9898\n",
      "\n",
      "Epoch 00056: val_loss did not improve from 0.03427\n",
      "Epoch 57/100\n",
      "52/52 [==============================] - 0s 7ms/step - loss: 0.0128 - accuracy: 0.9978 - val_loss: 0.0376 - val_accuracy: 0.9904\n",
      "\n",
      "Epoch 00057: val_loss did not improve from 0.03427\n",
      "Epoch 58/100\n",
      "52/52 [==============================] - 0s 7ms/step - loss: 0.0134 - accuracy: 0.9955 - val_loss: 0.0369 - val_accuracy: 0.9915\n",
      "\n",
      "Epoch 00058: val_loss did not improve from 0.03427\n",
      "Epoch 59/100\n",
      "52/52 [==============================] - 0s 7ms/step - loss: 0.0082 - accuracy: 0.9996 - val_loss: 0.0414 - val_accuracy: 0.9887\n",
      "\n",
      "Epoch 00059: val_loss did not improve from 0.03427\n",
      "Epoch 60/100\n",
      "52/52 [==============================] - 0s 7ms/step - loss: 0.0142 - accuracy: 0.9948 - val_loss: 0.0385 - val_accuracy: 0.9915\n",
      "\n",
      "Epoch 00060: val_loss did not improve from 0.03427\n",
      "Epoch 61/100\n",
      "52/52 [==============================] - 0s 7ms/step - loss: 0.0105 - accuracy: 0.9965 - val_loss: 0.0376 - val_accuracy: 0.9898\n",
      "\n",
      "Epoch 00061: val_loss did not improve from 0.03427\n",
      "Epoch 62/100\n",
      "52/52 [==============================] - 0s 7ms/step - loss: 0.0113 - accuracy: 0.9971 - val_loss: 0.0382 - val_accuracy: 0.9926\n",
      "\n",
      "Epoch 00062: val_loss did not improve from 0.03427\n",
      "Epoch 63/100\n",
      "52/52 [==============================] - 0s 7ms/step - loss: 0.0105 - accuracy: 0.9980 - val_loss: 0.0386 - val_accuracy: 0.9915\n",
      "\n",
      "Epoch 00063: val_loss did not improve from 0.03427\n",
      "Epoch 64/100\n",
      "52/52 [==============================] - 0s 7ms/step - loss: 0.0090 - accuracy: 0.9969 - val_loss: 0.0373 - val_accuracy: 0.9898\n",
      "\n",
      "Epoch 00064: val_loss did not improve from 0.03427\n",
      "Epoch 65/100\n",
      "52/52 [==============================] - 0s 7ms/step - loss: 0.0095 - accuracy: 0.9980 - val_loss: 0.0372 - val_accuracy: 0.9898\n",
      "\n",
      "Epoch 00065: val_loss did not improve from 0.03427\n",
      "Epoch 66/100\n",
      "52/52 [==============================] - 0s 7ms/step - loss: 0.0142 - accuracy: 0.9964 - val_loss: 0.0350 - val_accuracy: 0.9932\n",
      "\n",
      "Epoch 00066: val_loss did not improve from 0.03427\n",
      "Epoch 67/100\n",
      "52/52 [==============================] - 0s 7ms/step - loss: 0.0096 - accuracy: 0.9972 - val_loss: 0.0374 - val_accuracy: 0.9932\n",
      "\n",
      "Epoch 00067: val_loss did not improve from 0.03427\n",
      "Epoch 68/100\n",
      "52/52 [==============================] - 0s 7ms/step - loss: 0.0085 - accuracy: 0.9976 - val_loss: 0.0351 - val_accuracy: 0.9921\n",
      "\n",
      "Epoch 00068: val_loss did not improve from 0.03427\n",
      "Epoch 69/100\n",
      "52/52 [==============================] - 0s 7ms/step - loss: 0.0090 - accuracy: 0.9976 - val_loss: 0.0350 - val_accuracy: 0.9915\n",
      "\n",
      "Epoch 00069: val_loss did not improve from 0.03427\n",
      "Epoch 70/100\n",
      "52/52 [==============================] - 0s 7ms/step - loss: 0.0126 - accuracy: 0.9967 - val_loss: 0.0333 - val_accuracy: 0.9932\n",
      "\n",
      "Epoch 00070: val_loss improved from 0.03427 to 0.03332, saving model to Y:/PycharmProjects\\model_210413_4.h5\n",
      "Epoch 71/100\n",
      "52/52 [==============================] - 0s 7ms/step - loss: 0.0131 - accuracy: 0.9964 - val_loss: 0.0351 - val_accuracy: 0.9915\n",
      "\n",
      "Epoch 00071: val_loss did not improve from 0.03332\n",
      "Epoch 72/100\n",
      "52/52 [==============================] - 0s 7ms/step - loss: 0.0078 - accuracy: 0.9984 - val_loss: 0.0372 - val_accuracy: 0.9904\n",
      "\n",
      "Epoch 00072: val_loss did not improve from 0.03332\n",
      "Epoch 73/100\n",
      "52/52 [==============================] - 0s 7ms/step - loss: 0.0113 - accuracy: 0.9959 - val_loss: 0.0374 - val_accuracy: 0.9898\n",
      "\n",
      "Epoch 00073: val_loss did not improve from 0.03332\n",
      "Epoch 74/100\n",
      "52/52 [==============================] - 0s 7ms/step - loss: 0.0084 - accuracy: 0.9979 - val_loss: 0.0413 - val_accuracy: 0.9892\n",
      "\n",
      "Epoch 00074: val_loss did not improve from 0.03332\n",
      "Epoch 75/100\n",
      "52/52 [==============================] - 0s 7ms/step - loss: 0.0192 - accuracy: 0.9951 - val_loss: 0.0338 - val_accuracy: 0.9921\n",
      "\n",
      "Epoch 00075: val_loss did not improve from 0.03332\n",
      "Epoch 76/100\n",
      "52/52 [==============================] - 0s 7ms/step - loss: 0.0120 - accuracy: 0.9952 - val_loss: 0.0338 - val_accuracy: 0.9932\n",
      "\n",
      "Epoch 00076: val_loss did not improve from 0.03332\n",
      "Epoch 77/100\n",
      "52/52 [==============================] - 0s 7ms/step - loss: 0.0127 - accuracy: 0.9958 - val_loss: 0.0357 - val_accuracy: 0.9892\n",
      "\n",
      "Epoch 00077: val_loss did not improve from 0.03332\n",
      "Epoch 78/100\n",
      "52/52 [==============================] - 0s 7ms/step - loss: 0.0110 - accuracy: 0.9956 - val_loss: 0.0349 - val_accuracy: 0.9915\n",
      "\n",
      "Epoch 00078: val_loss did not improve from 0.03332\n",
      "Epoch 79/100\n",
      "52/52 [==============================] - 0s 6ms/step - loss: 0.0107 - accuracy: 0.9973 - val_loss: 0.0363 - val_accuracy: 0.9904\n",
      "\n",
      "Epoch 00079: val_loss did not improve from 0.03332\n",
      "Epoch 80/100\n",
      "52/52 [==============================] - 0s 7ms/step - loss: 0.0120 - accuracy: 0.9973 - val_loss: 0.0361 - val_accuracy: 0.9915\n",
      "\n",
      "Epoch 00080: val_loss did not improve from 0.03332\n",
      "Epoch 81/100\n",
      "52/52 [==============================] - 0s 7ms/step - loss: 0.0090 - accuracy: 0.9963 - val_loss: 0.0410 - val_accuracy: 0.9909\n",
      "\n",
      "Epoch 00081: val_loss did not improve from 0.03332\n",
      "Epoch 82/100\n",
      "52/52 [==============================] - 0s 7ms/step - loss: 0.0100 - accuracy: 0.9980 - val_loss: 0.0368 - val_accuracy: 0.9915\n",
      "\n",
      "Epoch 00082: val_loss did not improve from 0.03332\n",
      "Epoch 83/100\n",
      "52/52 [==============================] - 0s 7ms/step - loss: 0.0079 - accuracy: 0.9981 - val_loss: 0.0390 - val_accuracy: 0.9904\n",
      "\n",
      "Epoch 00083: val_loss did not improve from 0.03332\n",
      "Epoch 84/100\n",
      "52/52 [==============================] - 0s 7ms/step - loss: 0.0093 - accuracy: 0.9966 - val_loss: 0.0358 - val_accuracy: 0.9926\n",
      "\n",
      "Epoch 00084: val_loss did not improve from 0.03332\n",
      "Epoch 85/100\n",
      "52/52 [==============================] - 0s 7ms/step - loss: 0.0079 - accuracy: 0.9966 - val_loss: 0.0354 - val_accuracy: 0.9915\n",
      "\n",
      "Epoch 00085: val_loss did not improve from 0.03332\n",
      "Epoch 86/100\n",
      "52/52 [==============================] - 0s 7ms/step - loss: 0.0066 - accuracy: 0.9992 - val_loss: 0.0362 - val_accuracy: 0.9921\n",
      "\n",
      "Epoch 00086: val_loss did not improve from 0.03332\n",
      "Epoch 87/100\n",
      "52/52 [==============================] - 0s 7ms/step - loss: 0.0065 - accuracy: 0.9987 - val_loss: 0.0392 - val_accuracy: 0.9915\n",
      "\n",
      "Epoch 00087: val_loss did not improve from 0.03332\n",
      "Epoch 88/100\n",
      "52/52 [==============================] - 0s 7ms/step - loss: 0.0087 - accuracy: 0.9982 - val_loss: 0.0373 - val_accuracy: 0.9915\n",
      "\n",
      "Epoch 00088: val_loss did not improve from 0.03332\n",
      "Epoch 89/100\n",
      "52/52 [==============================] - 0s 7ms/step - loss: 0.0055 - accuracy: 0.9990 - val_loss: 0.0347 - val_accuracy: 0.9921\n",
      "\n",
      "Epoch 00089: val_loss did not improve from 0.03332\n",
      "Epoch 90/100\n",
      "52/52 [==============================] - 0s 7ms/step - loss: 0.0065 - accuracy: 0.9984 - val_loss: 0.0403 - val_accuracy: 0.9915\n",
      "\n",
      "Epoch 00090: val_loss did not improve from 0.03332\n",
      "Epoch 91/100\n",
      "52/52 [==============================] - 0s 7ms/step - loss: 0.0101 - accuracy: 0.9974 - val_loss: 0.0393 - val_accuracy: 0.9926\n",
      "\n",
      "Epoch 00091: val_loss did not improve from 0.03332\n",
      "Epoch 92/100\n",
      "52/52 [==============================] - 0s 7ms/step - loss: 0.0073 - accuracy: 0.9979 - val_loss: 0.0394 - val_accuracy: 0.9904\n",
      "\n",
      "Epoch 00092: val_loss did not improve from 0.03332\n",
      "Epoch 93/100\n",
      "52/52 [==============================] - 0s 7ms/step - loss: 0.0131 - accuracy: 0.9955 - val_loss: 0.0407 - val_accuracy: 0.9915\n",
      "\n",
      "Epoch 00093: val_loss did not improve from 0.03332\n",
      "Epoch 94/100\n",
      "52/52 [==============================] - 0s 8ms/step - loss: 0.0092 - accuracy: 0.9967 - val_loss: 0.0421 - val_accuracy: 0.9921\n",
      "\n",
      "Epoch 00094: val_loss did not improve from 0.03332\n",
      "Epoch 95/100\n",
      "52/52 [==============================] - 0s 7ms/step - loss: 0.0079 - accuracy: 0.9986 - val_loss: 0.0427 - val_accuracy: 0.9915\n",
      "\n",
      "Epoch 00095: val_loss did not improve from 0.03332\n",
      "Epoch 96/100\n",
      "52/52 [==============================] - 0s 7ms/step - loss: 0.0091 - accuracy: 0.9975 - val_loss: 0.0402 - val_accuracy: 0.9915\n",
      "\n",
      "Epoch 00096: val_loss did not improve from 0.03332\n",
      "Epoch 97/100\n",
      "52/52 [==============================] - 0s 7ms/step - loss: 0.0090 - accuracy: 0.9967 - val_loss: 0.0418 - val_accuracy: 0.9915\n",
      "\n",
      "Epoch 00097: val_loss did not improve from 0.03332\n",
      "Epoch 98/100\n",
      "52/52 [==============================] - 0s 7ms/step - loss: 0.0106 - accuracy: 0.9964 - val_loss: 0.0414 - val_accuracy: 0.9909\n",
      "\n",
      "Epoch 00098: val_loss did not improve from 0.03332\n",
      "Epoch 99/100\n",
      "52/52 [==============================] - 0s 7ms/step - loss: 0.0057 - accuracy: 0.9990 - val_loss: 0.0396 - val_accuracy: 0.9921\n",
      "\n",
      "Epoch 00099: val_loss did not improve from 0.03332\n",
      "Epoch 100/100\n",
      "52/52 [==============================] - 0s 7ms/step - loss: 0.0090 - accuracy: 0.9973 - val_loss: 0.0387 - val_accuracy: 0.9915\n",
      "\n",
      "Epoch 00100: val_loss did not improve from 0.03332\n"
     ]
    }
   ],
   "source": [
    "EPOCHS = 100\n",
    "\n",
    "cp = tf.keras.callbacks.ModelCheckpoint(model_file, monitor='val_loss',\n",
    "                      save_best_only=True, save_weights_only=False,\n",
    "                      mode='auto', save_zfreq='epoch', verbose=1)\n",
    "\n",
    "history = model.fit(\n",
    "    train_ds, \n",
    "    validation_data=val_ds,  \n",
    "    epochs=EPOCHS,\n",
    "    # callbacks=[tf.keras.callbacks.EarlyStopping(verbose=1, patience=2), cp],\n",
    "    callbacks=[cp],\n",
    ")"
   ]
  },
  {
   "cell_type": "markdown",
   "metadata": {
    "id": "gjpCDeQ4mUfS"
   },
   "source": [
    "Let's check the training and validation loss curves to see how your model has improved during training."
   ]
  },
  {
   "cell_type": "code",
   "execution_count": 687,
   "metadata": {
    "colab": {
     "base_uri": "https://localhost:8080/",
     "height": 265
    },
    "id": "nzhipg3Gu2AY",
    "outputId": "01697838-c54e-446b-a651-90b808cc4203",
    "tags": []
   },
   "outputs": [
    {
     "data": {
      "image/png": "[encoded data removed]",
      "text/plain": [
       "<Figure size 432x288 with 1 Axes>"
      ]
     },
     "metadata": {
      "needs_background": "light"
     },
     "output_type": "display_data"
    }
   ],
   "source": [
    "metrics = history.history\n",
    "plt.plot(history.epoch, metrics['loss'], metrics['val_loss'])\n",
    "plt.legend(['loss', 'val_loss'])\n",
    "plt.show()"
   ]
  },
  {
   "cell_type": "markdown",
   "metadata": {
    "id": "5ZTt3kO3mfm4"
   },
   "source": [
    "## Evaluate test set performance\n",
    "\n",
    "Let's run the model on the test set and check performance."
   ]
  },
  {
   "cell_type": "code",
   "execution_count": 688,
   "metadata": {
    "id": "biU2MwzyAo8o",
    "tags": []
   },
   "outputs": [],
   "source": [
    "test_audio = []\n",
    "test_labels = []\n",
    "\n",
    "# frame_length = 1024*4\n",
    "# frame_step = 160\n",
    "\n",
    "for audio, label in test_ds:\n",
    "\n",
    "    test_audio.append(audio.numpy())\n",
    "    test_labels.append(label.numpy())\n",
    "\n",
    "test_audio = np.array(test_audio)\n",
    "test_labels = np.array(test_labels)"
   ]
  },
  {
   "cell_type": "code",
   "execution_count": 689,
   "metadata": {
    "colab": {
     "base_uri": "https://localhost:8080/"
    },
    "id": "ktUanr9mRZky",
    "outputId": "28c1be70-dbbd-498c-aac8-32e7a2a6ba59",
    "tags": []
   },
   "outputs": [
    {
     "name": "stdout",
     "output_type": "stream",
     "text": [
      "Test set accuracy: 92%\n"
     ]
    }
   ],
   "source": [
    "model = tf.keras.models.load_model(model_file)\n",
    "\n",
    "y_pred = np.argmax(model.predict(test_audio), axis=1)\n",
    "y_true = test_labels\n",
    "\n",
    "test_acc = sum(y_pred == y_true) / len(y_true)\n",
    "print(f'Test set accuracy: {test_acc:.0%}')"
   ]
  },
  {
   "cell_type": "markdown",
   "metadata": {
    "id": "en9Znt1NOabH"
   },
   "source": [
    "### Display a confusion matrix\n",
    "\n",
    "A confusion matrix is helpful to see how well the model did on each of the commands in the test set."
   ]
  },
  {
   "cell_type": "code",
   "execution_count": 623,
   "metadata": {
    "colab": {
     "base_uri": "https://localhost:8080/",
     "height": 497
    },
    "id": "LvoSAOiXU3lL",
    "outputId": "814908c0-565d-4fa1-cca2-c71f1da07fad",
    "tags": []
   },
   "outputs": [
    {
     "data": {
      "image/png": "[encoded data removed]",
      "text/plain": [
       "<Figure size 720x576 with 2 Axes>"
      ]
     },
     "metadata": {
      "needs_background": "light"
     },
     "output_type": "display_data"
    }
   ],
   "source": [
    "confusion_mtx = tf.math.confusion_matrix(y_true, y_pred) \n",
    "plt.figure(figsize=(10, 8))\n",
    "sns.heatmap(confusion_mtx, xticklabels=tones, yticklabels=tones, \n",
    "            annot=True, fmt='g')\n",
    "plt.xlabel('Prediction')\n",
    "plt.ylabel('Label')\n",
    "plt.show()"
   ]
  },
  {
   "cell_type": "markdown",
   "metadata": {
    "id": "mQGi_mzPcLvl",
    "tags": []
   },
   "source": [
    "## Run inference on an audio file\n",
    "\n",
    "Finally, verify the model's prediction output using an input audio file of someone saying \"no.\" How well does your model perform?"
   ]
  },
  {
   "cell_type": "code",
   "execution_count": 102,
   "metadata": {
    "colab": {
     "base_uri": "https://localhost:8080/",
     "height": 349
    },
    "id": "zRxauKMdhofU",
    "outputId": "4a446506-7782-41f1-b6fb-e2fb41000887",
    "tags": []
   },
   "outputs": [
    {
     "name": "stdout",
     "output_type": "stream",
     "text": [
      "Tone: Tensor(\"strided_slice:0\", shape=(), dtype=string)\n",
      "waveform shape: Tensor(\"Shape:0\", shape=(1,), dtype=int32)\n",
      "equal_length =  (None,)\n",
      "(None, 8193) <dtype: 'float32'>\n",
      "Tensor(\"quantiles/percentile/SelectV2:0\", shape=(20,), dtype=float32)\n",
      "trim_spec:  (None, None)\n",
      "trim_spec pad_y:  (None, None)\n",
      "trim_spec pad_x:  (None, 128)\n",
      "sample_ds\n",
      "<ParallelMapDataset shapes: ((48, 48, 1), ()), types: (tf.float32, tf.int64)>\n",
      "sample_ds\n"
     ]
    },
    {
     "ename": "InvalidArgumentError",
     "evalue": "slice index -1 of dimension 0 out of bounds.\n\t [[{{node strided_slice}}]]",
     "output_type": "error",
     "traceback": [
      "\u001b[1;31m---------------------------------------------------------------------------\u001b[0m",
      "\u001b[1;31mInvalidArgumentError\u001b[0m                      Traceback (most recent call last)",
      "\u001b[1;32mc:\\programdata\\miniconda3\\lib\\site-packages\\tensorflow\\python\\eager\\context.py\u001b[0m in \u001b[0;36mexecution_mode\u001b[1;34m(mode)\u001b[0m\n\u001b[0;32m   2112\u001b[0m       \u001b[0mctx\u001b[0m\u001b[1;33m.\u001b[0m\u001b[0mexecutor\u001b[0m \u001b[1;33m=\u001b[0m \u001b[0mexecutor_new\u001b[0m\u001b[1;33m\u001b[0m\u001b[1;33m\u001b[0m\u001b[0m\n\u001b[1;32m-> 2113\u001b[1;33m       \u001b[1;32myield\u001b[0m\u001b[1;33m\u001b[0m\u001b[1;33m\u001b[0m\u001b[0m\n\u001b[0m\u001b[0;32m   2114\u001b[0m     \u001b[1;32mfinally\u001b[0m\u001b[1;33m:\u001b[0m\u001b[1;33m\u001b[0m\u001b[1;33m\u001b[0m\u001b[0m\n",
      "\u001b[1;32mc:\\programdata\\miniconda3\\lib\\site-packages\\tensorflow\\python\\data\\ops\\iterator_ops.py\u001b[0m in \u001b[0;36m_next_internal\u001b[1;34m(self)\u001b[0m\n\u001b[0;32m    729\u001b[0m     \u001b[1;32mwith\u001b[0m \u001b[0mcontext\u001b[0m\u001b[1;33m.\u001b[0m\u001b[0mexecution_mode\u001b[0m\u001b[1;33m(\u001b[0m\u001b[0mcontext\u001b[0m\u001b[1;33m.\u001b[0m\u001b[0mSYNC\u001b[0m\u001b[1;33m)\u001b[0m\u001b[1;33m:\u001b[0m\u001b[1;33m\u001b[0m\u001b[1;33m\u001b[0m\u001b[0m\n\u001b[1;32m--> 730\u001b[1;33m       ret = gen_dataset_ops.iterator_get_next(\n\u001b[0m\u001b[0;32m    731\u001b[0m           \u001b[0mself\u001b[0m\u001b[1;33m.\u001b[0m\u001b[0m_iterator_resource\u001b[0m\u001b[1;33m,\u001b[0m\u001b[1;33m\u001b[0m\u001b[1;33m\u001b[0m\u001b[0m\n",
      "\u001b[1;32mc:\\programdata\\miniconda3\\lib\\site-packages\\tensorflow\\python\\ops\\gen_dataset_ops.py\u001b[0m in \u001b[0;36miterator_get_next\u001b[1;34m(iterator, output_types, output_shapes, name)\u001b[0m\n\u001b[0;32m   2577\u001b[0m     \u001b[1;32mexcept\u001b[0m \u001b[0m_core\u001b[0m\u001b[1;33m.\u001b[0m\u001b[0m_NotOkStatusException\u001b[0m \u001b[1;32mas\u001b[0m \u001b[0me\u001b[0m\u001b[1;33m:\u001b[0m\u001b[1;33m\u001b[0m\u001b[1;33m\u001b[0m\u001b[0m\n\u001b[1;32m-> 2578\u001b[1;33m       \u001b[0m_ops\u001b[0m\u001b[1;33m.\u001b[0m\u001b[0mraise_from_not_ok_status\u001b[0m\u001b[1;33m(\u001b[0m\u001b[0me\u001b[0m\u001b[1;33m,\u001b[0m \u001b[0mname\u001b[0m\u001b[1;33m)\u001b[0m\u001b[1;33m\u001b[0m\u001b[1;33m\u001b[0m\u001b[0m\n\u001b[0m\u001b[0;32m   2579\u001b[0m     \u001b[1;32mexcept\u001b[0m \u001b[0m_core\u001b[0m\u001b[1;33m.\u001b[0m\u001b[0m_FallbackException\u001b[0m\u001b[1;33m:\u001b[0m\u001b[1;33m\u001b[0m\u001b[1;33m\u001b[0m\u001b[0m\n",
      "\u001b[1;32mc:\\programdata\\miniconda3\\lib\\site-packages\\tensorflow\\python\\framework\\ops.py\u001b[0m in \u001b[0;36mraise_from_not_ok_status\u001b[1;34m(e, name)\u001b[0m\n\u001b[0;32m   6861\u001b[0m   \u001b[1;31m# pylint: disable=protected-access\u001b[0m\u001b[1;33m\u001b[0m\u001b[1;33m\u001b[0m\u001b[1;33m\u001b[0m\u001b[0m\n\u001b[1;32m-> 6862\u001b[1;33m   \u001b[0msix\u001b[0m\u001b[1;33m.\u001b[0m\u001b[0mraise_from\u001b[0m\u001b[1;33m(\u001b[0m\u001b[0mcore\u001b[0m\u001b[1;33m.\u001b[0m\u001b[0m_status_to_exception\u001b[0m\u001b[1;33m(\u001b[0m\u001b[0me\u001b[0m\u001b[1;33m.\u001b[0m\u001b[0mcode\u001b[0m\u001b[1;33m,\u001b[0m \u001b[0mmessage\u001b[0m\u001b[1;33m)\u001b[0m\u001b[1;33m,\u001b[0m \u001b[1;32mNone\u001b[0m\u001b[1;33m)\u001b[0m\u001b[1;33m\u001b[0m\u001b[1;33m\u001b[0m\u001b[0m\n\u001b[0m\u001b[0;32m   6863\u001b[0m   \u001b[1;31m# pylint: enable=protected-access\u001b[0m\u001b[1;33m\u001b[0m\u001b[1;33m\u001b[0m\u001b[1;33m\u001b[0m\u001b[0m\n",
      "\u001b[1;32mc:\\programdata\\miniconda3\\lib\\site-packages\\six.py\u001b[0m in \u001b[0;36mraise_from\u001b[1;34m(value, from_value)\u001b[0m\n",
      "\u001b[1;31mInvalidArgumentError\u001b[0m: slice index -1 of dimension 0 out of bounds.\n\t [[{{node strided_slice}}]] [Op:IteratorGetNext]",
      "\nDuring handling of the above exception, another exception occurred:\n",
      "\u001b[1;31mInvalidArgumentError\u001b[0m                      Traceback (most recent call last)",
      "\u001b[1;32m<ipython-input-102-1c9a03ded148>\u001b[0m in \u001b[0;36m<module>\u001b[1;34m\u001b[0m\n\u001b[0;32m     14\u001b[0m \u001b[0mprint\u001b[0m\u001b[1;33m(\u001b[0m\u001b[1;34m'sample_ds'\u001b[0m\u001b[1;33m)\u001b[0m\u001b[1;33m\u001b[0m\u001b[1;33m\u001b[0m\u001b[0m\n\u001b[0;32m     15\u001b[0m \u001b[1;33m\u001b[0m\u001b[0m\n\u001b[1;32m---> 16\u001b[1;33m \u001b[1;32mfor\u001b[0m \u001b[0mspectrogram\u001b[0m\u001b[1;33m,\u001b[0m \u001b[0mlabel\u001b[0m \u001b[1;32min\u001b[0m \u001b[0msample_ds\u001b[0m\u001b[1;33m.\u001b[0m\u001b[0mtake\u001b[0m\u001b[1;33m(\u001b[0m\u001b[1;36m1\u001b[0m\u001b[1;33m)\u001b[0m\u001b[1;33m:\u001b[0m\u001b[1;33m\u001b[0m\u001b[1;33m\u001b[0m\u001b[0m\n\u001b[0m\u001b[0;32m     17\u001b[0m \u001b[1;31m#     prediction = model(spectrogram)\u001b[0m\u001b[1;33m\u001b[0m\u001b[1;33m\u001b[0m\u001b[1;33m\u001b[0m\u001b[0m\n\u001b[0;32m     18\u001b[0m \u001b[1;31m#     plt.bar(tones, tf.nn.softmax(prediction[0]))\u001b[0m\u001b[1;33m\u001b[0m\u001b[1;33m\u001b[0m\u001b[1;33m\u001b[0m\u001b[0m\n",
      "\u001b[1;32mc:\\programdata\\miniconda3\\lib\\site-packages\\tensorflow\\python\\data\\ops\\iterator_ops.py\u001b[0m in \u001b[0;36m__next__\u001b[1;34m(self)\u001b[0m\n\u001b[0;32m    745\u001b[0m   \u001b[1;32mdef\u001b[0m \u001b[0m__next__\u001b[0m\u001b[1;33m(\u001b[0m\u001b[0mself\u001b[0m\u001b[1;33m)\u001b[0m\u001b[1;33m:\u001b[0m\u001b[1;33m\u001b[0m\u001b[1;33m\u001b[0m\u001b[0m\n\u001b[0;32m    746\u001b[0m     \u001b[1;32mtry\u001b[0m\u001b[1;33m:\u001b[0m\u001b[1;33m\u001b[0m\u001b[1;33m\u001b[0m\u001b[0m\n\u001b[1;32m--> 747\u001b[1;33m       \u001b[1;32mreturn\u001b[0m \u001b[0mself\u001b[0m\u001b[1;33m.\u001b[0m\u001b[0m_next_internal\u001b[0m\u001b[1;33m(\u001b[0m\u001b[1;33m)\u001b[0m\u001b[1;33m\u001b[0m\u001b[1;33m\u001b[0m\u001b[0m\n\u001b[0m\u001b[0;32m    748\u001b[0m     \u001b[1;32mexcept\u001b[0m \u001b[0merrors\u001b[0m\u001b[1;33m.\u001b[0m\u001b[0mOutOfRangeError\u001b[0m\u001b[1;33m:\u001b[0m\u001b[1;33m\u001b[0m\u001b[1;33m\u001b[0m\u001b[0m\n\u001b[0;32m    749\u001b[0m       \u001b[1;32mraise\u001b[0m \u001b[0mStopIteration\u001b[0m\u001b[1;33m\u001b[0m\u001b[1;33m\u001b[0m\u001b[0m\n",
      "\u001b[1;32mc:\\programdata\\miniconda3\\lib\\site-packages\\tensorflow\\python\\data\\ops\\iterator_ops.py\u001b[0m in \u001b[0;36m_next_internal\u001b[1;34m(self)\u001b[0m\n\u001b[0;32m    737\u001b[0m         \u001b[1;32mreturn\u001b[0m \u001b[0mself\u001b[0m\u001b[1;33m.\u001b[0m\u001b[0m_element_spec\u001b[0m\u001b[1;33m.\u001b[0m\u001b[0m_from_compatible_tensor_list\u001b[0m\u001b[1;33m(\u001b[0m\u001b[0mret\u001b[0m\u001b[1;33m)\u001b[0m  \u001b[1;31m# pylint: disable=protected-access\u001b[0m\u001b[1;33m\u001b[0m\u001b[1;33m\u001b[0m\u001b[0m\n\u001b[0;32m    738\u001b[0m       \u001b[1;32mexcept\u001b[0m \u001b[0mAttributeError\u001b[0m\u001b[1;33m:\u001b[0m\u001b[1;33m\u001b[0m\u001b[1;33m\u001b[0m\u001b[0m\n\u001b[1;32m--> 739\u001b[1;33m         \u001b[1;32mreturn\u001b[0m \u001b[0mstructure\u001b[0m\u001b[1;33m.\u001b[0m\u001b[0mfrom_compatible_tensor_list\u001b[0m\u001b[1;33m(\u001b[0m\u001b[0mself\u001b[0m\u001b[1;33m.\u001b[0m\u001b[0m_element_spec\u001b[0m\u001b[1;33m,\u001b[0m \u001b[0mret\u001b[0m\u001b[1;33m)\u001b[0m\u001b[1;33m\u001b[0m\u001b[1;33m\u001b[0m\u001b[0m\n\u001b[0m\u001b[0;32m    740\u001b[0m \u001b[1;33m\u001b[0m\u001b[0m\n\u001b[0;32m    741\u001b[0m   \u001b[1;33m@\u001b[0m\u001b[0mproperty\u001b[0m\u001b[1;33m\u001b[0m\u001b[1;33m\u001b[0m\u001b[0m\n",
      "\u001b[1;32mc:\\programdata\\miniconda3\\lib\\contextlib.py\u001b[0m in \u001b[0;36m__exit__\u001b[1;34m(self, type, value, traceback)\u001b[0m\n\u001b[0;32m    129\u001b[0m                 \u001b[0mvalue\u001b[0m \u001b[1;33m=\u001b[0m \u001b[0mtype\u001b[0m\u001b[1;33m(\u001b[0m\u001b[1;33m)\u001b[0m\u001b[1;33m\u001b[0m\u001b[1;33m\u001b[0m\u001b[0m\n\u001b[0;32m    130\u001b[0m             \u001b[1;32mtry\u001b[0m\u001b[1;33m:\u001b[0m\u001b[1;33m\u001b[0m\u001b[1;33m\u001b[0m\u001b[0m\n\u001b[1;32m--> 131\u001b[1;33m                 \u001b[0mself\u001b[0m\u001b[1;33m.\u001b[0m\u001b[0mgen\u001b[0m\u001b[1;33m.\u001b[0m\u001b[0mthrow\u001b[0m\u001b[1;33m(\u001b[0m\u001b[0mtype\u001b[0m\u001b[1;33m,\u001b[0m \u001b[0mvalue\u001b[0m\u001b[1;33m,\u001b[0m \u001b[0mtraceback\u001b[0m\u001b[1;33m)\u001b[0m\u001b[1;33m\u001b[0m\u001b[1;33m\u001b[0m\u001b[0m\n\u001b[0m\u001b[0;32m    132\u001b[0m             \u001b[1;32mexcept\u001b[0m \u001b[0mStopIteration\u001b[0m \u001b[1;32mas\u001b[0m \u001b[0mexc\u001b[0m\u001b[1;33m:\u001b[0m\u001b[1;33m\u001b[0m\u001b[1;33m\u001b[0m\u001b[0m\n\u001b[0;32m    133\u001b[0m                 \u001b[1;31m# Suppress StopIteration *unless* it's the same exception that\u001b[0m\u001b[1;33m\u001b[0m\u001b[1;33m\u001b[0m\u001b[1;33m\u001b[0m\u001b[0m\n",
      "\u001b[1;32mc:\\programdata\\miniconda3\\lib\\site-packages\\tensorflow\\python\\eager\\context.py\u001b[0m in \u001b[0;36mexecution_mode\u001b[1;34m(mode)\u001b[0m\n\u001b[0;32m   2114\u001b[0m     \u001b[1;32mfinally\u001b[0m\u001b[1;33m:\u001b[0m\u001b[1;33m\u001b[0m\u001b[1;33m\u001b[0m\u001b[0m\n\u001b[0;32m   2115\u001b[0m       \u001b[0mctx\u001b[0m\u001b[1;33m.\u001b[0m\u001b[0mexecutor\u001b[0m \u001b[1;33m=\u001b[0m \u001b[0mexecutor_old\u001b[0m\u001b[1;33m\u001b[0m\u001b[1;33m\u001b[0m\u001b[0m\n\u001b[1;32m-> 2116\u001b[1;33m       \u001b[0mexecutor_new\u001b[0m\u001b[1;33m.\u001b[0m\u001b[0mwait\u001b[0m\u001b[1;33m(\u001b[0m\u001b[1;33m)\u001b[0m\u001b[1;33m\u001b[0m\u001b[1;33m\u001b[0m\u001b[0m\n\u001b[0m\u001b[0;32m   2117\u001b[0m \u001b[1;33m\u001b[0m\u001b[0m\n\u001b[0;32m   2118\u001b[0m \u001b[1;33m\u001b[0m\u001b[0m\n",
      "\u001b[1;32mc:\\programdata\\miniconda3\\lib\\site-packages\\tensorflow\\python\\eager\\executor.py\u001b[0m in \u001b[0;36mwait\u001b[1;34m(self)\u001b[0m\n\u001b[0;32m     67\u001b[0m   \u001b[1;32mdef\u001b[0m \u001b[0mwait\u001b[0m\u001b[1;33m(\u001b[0m\u001b[0mself\u001b[0m\u001b[1;33m)\u001b[0m\u001b[1;33m:\u001b[0m\u001b[1;33m\u001b[0m\u001b[1;33m\u001b[0m\u001b[0m\n\u001b[0;32m     68\u001b[0m     \u001b[1;34m\"\"\"Waits for ops dispatched in this executor to finish.\"\"\"\u001b[0m\u001b[1;33m\u001b[0m\u001b[1;33m\u001b[0m\u001b[0m\n\u001b[1;32m---> 69\u001b[1;33m     \u001b[0mpywrap_tfe\u001b[0m\u001b[1;33m.\u001b[0m\u001b[0mTFE_ExecutorWaitForAllPendingNodes\u001b[0m\u001b[1;33m(\u001b[0m\u001b[0mself\u001b[0m\u001b[1;33m.\u001b[0m\u001b[0m_handle\u001b[0m\u001b[1;33m)\u001b[0m\u001b[1;33m\u001b[0m\u001b[1;33m\u001b[0m\u001b[0m\n\u001b[0m\u001b[0;32m     70\u001b[0m \u001b[1;33m\u001b[0m\u001b[0m\n\u001b[0;32m     71\u001b[0m   \u001b[1;32mdef\u001b[0m \u001b[0mclear_error\u001b[0m\u001b[1;33m(\u001b[0m\u001b[0mself\u001b[0m\u001b[1;33m)\u001b[0m\u001b[1;33m:\u001b[0m\u001b[1;33m\u001b[0m\u001b[1;33m\u001b[0m\u001b[0m\n",
      "\u001b[1;31mInvalidArgumentError\u001b[0m: slice index -1 of dimension 0 out of bounds.\n\t [[{{node strided_slice}}]]"
     ]
    }
   ],
   "source": [
    "# sample_file = data_dir/'3/ba3.wav'\n",
    "\n",
    "# sample_file_name = '/2/' + '00 - Bing_wav - 2nd tone 1 [2020-09-14 223633]-8' + '.wav'\n",
    "# sample_file = data_dir_t + sample_file_name\n",
    "\n",
    "sample_file = 'Y:/PycharmProjects/sound/mixed_clean/4/quickmandarin_gong4.wav'\n",
    "\n",
    "# '1/00 - Bing_wav - 1st tone 1 [2020-09-14 222206]-6.wav'\n",
    "\n",
    "sample_ds = preprocess_dataset([sample_file])\n",
    "\n",
    "print('sample_ds')\n",
    "print(sample_ds)\n",
    "print('sample_ds')\n",
    "\n",
    "for spectrogram, label in sample_ds.take(1):\n",
    "#     prediction = model(spectrogram)\n",
    "#     plt.bar(tones, tf.nn.softmax(prediction[0]))\n",
    "#     plt.title(f'Predictions for \"{tones[label[0]]}\"')\n",
    "#     plt.show()\n",
    "    print('1')\n",
    "\n",
    "    spectrogram = tf.squeeze(spectrogram)\n",
    "    print('2')\n",
    "\n",
    "    def plot_spectrogram(spectrogram, ax):\n",
    "        log_spec = spectrogram.T\n",
    "        length = log_spec.shape[1]\n",
    "        height = log_spec.shape[0]\n",
    "        X = range(length)\n",
    "        Y = range(height)\n",
    "        ax.pcolormesh(X, Y, log_spec,shading='auto')\n",
    "\n",
    "    fig, axes = plt.subplots(2, figsize=(5, 10))\n",
    "    timescale = np.arange(waveform.shape[0])\n",
    "    print('3')\n",
    "\n",
    "    plot_spectrogram(spectrogram.numpy(), axes[0])\n",
    "    print('4')\n",
    "\n",
    "    axes[0].set_title('Spectrogram')"
   ]
  },
  {
   "cell_type": "markdown",
   "metadata": {
    "id": "VgWICqdqQNaQ"
   },
   "source": [
    "You can see that your model very clearly recognized the audio command as \"no.\""
   ]
  },
  {
   "cell_type": "markdown",
   "metadata": {
    "id": "J3jF933m9z1J"
   },
   "source": [
    "## Next steps\n",
    "\n",
    "This tutorial showed how you could do simple audio classification using a convolutional neural network with TensorFlow and Python.\n",
    "\n",
    "* To learn how to use transfer learning for audio classification, check out the [Sound classification with YAMNet](https://www.tensorflow.org/hub/tutorials/yamnet) tutorial.\n",
    "\n",
    "* To build your own interactive web app for audio classification, consider taking the [TensorFlow.js - Audio recognition using transfer learning codelab](https://codelabs.developers.google.com/codelabs/tensorflowjs-audio-codelab/index.html#0).\n",
    "\n",
    "* TensorFlow also has additional support for [audio data preparation and augmentation](https://www.tensorflow.org/io/tutorials/audio) to help with your own audio-based projects.\n"
   ]
  }
 ],
 "metadata": {
  "accelerator": "GPU",
  "colab": {
   "collapsed_sections": [
    "J3jF933m9z1J"
   ],
   "name": "CTC simple_audio 210321.ipynb",
   "provenance": [],
   "toc_visible": true
  },
  "kernelspec": {
   "display_name": "Python 3",
   "language": "python",
   "name": "python3"
  },
  "language_info": {
   "codemirror_mode": {
    "name": "ipython",
    "version": 3
   },
   "file_extension": ".py",
   "mimetype": "text/x-python",
   "name": "python",
   "nbconvert_exporter": "python",
   "pygments_lexer": "ipython3",
   "version": "3.8.3"
  },
  "toc-autonumbering": true,
  "toc-showcode": false,
  "toc-showmarkdowntxt": false
 },
 "nbformat": 4,
 "nbformat_minor": 4
}
